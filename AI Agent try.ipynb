{
 "cells": [
  {
   "cell_type": "code",
   "execution_count": 2,
   "id": "6ff9f4fa-040d-4b88-9328-ae4a8cf02bc8",
   "metadata": {},
   "outputs": [],
   "source": [
    "import os\n",
    "from dotenv import load_dotenv\n",
    "load_dotenv()\n",
    "tavily_api_key = os.getenv(\"TAVILY_API_KEY\")\n",
    "cohere_api_key = os.getenv(\"COHERE_API_KEY\")"
   ]
  },
  {
   "cell_type": "code",
   "execution_count": 3,
   "id": "32c1b18b-c610-4fcb-9f2d-cc3bb5fd044b",
   "metadata": {},
   "outputs": [
    {
     "name": "stdout",
     "output_type": "stream",
     "text": [
      "[{'url': 'https://www.weatherapi.com/', 'content': \"{'location': {'name': 'San Francisco', 'region': 'California', 'country': 'United States of America', 'lat': 37.775, 'lon': -122.4183, 'tz_id': 'America/Los_Angeles', 'localtime_epoch': 1732061823, 'localtime': '2024-11-19 16:17'}, 'current': {'last_updated_epoch': 1732061700, 'last_updated': '2024-11-19 16:15', 'temp_c': 13.3, 'temp_f': 55.9, 'is_day': 1, 'condition': {'text': 'Overcast', 'icon': '//cdn.weatherapi.com/weather/64x64/day/122.png', 'code': 1009}, 'wind_mph': 6.5, 'wind_kph': 10.4, 'wind_degree': 243, 'wind_dir': 'WSW', 'pressure_mb': 1018.0, 'pressure_in': 30.05, 'precip_mm': 0.0, 'precip_in': 0.0, 'humidity': 53, 'cloud': 100, 'feelslike_c': 12.5, 'feelslike_f': 54.5, 'windchill_c': 11.2, 'windchill_f': 52.2, 'heatindex_c': 11.9, 'heatindex_f': 53.5, 'dewpoint_c': 7.1, 'dewpoint_f': 44.7, 'vis_km': 16.0, 'vis_miles': 9.0, 'uv': 0.1, 'gust_mph': 8.7, 'gust_kph': 14.1}}\"}, {'url': 'https://forecast.weather.gov/MapClick.php?lat=37.621845878167704&lon=-122.37396240234375&site=mtr&lg=en', 'content': 'Current conditions at San Francisco, San Francisco International Airport (KSFO) Lat: 37.61961°NLon: ... 2024-6pm PST Nov 20, 2024 . Forecast Discussion . Additional Resources. Radar & Satellite Image. ... National Weather Service; San Francisco Bay Area, CA; 21 Grace Hopper Ave, Stop 5; Monterey, CA 93943-5505; Comments? Questions?'}]\n"
     ]
    }
   ],
   "source": [
    "from langchain_community.tools.tavily_search import TavilySearchResults\n",
    "\n",
    "search = TavilySearchResults(max_results=2)\n",
    "search_results = search.invoke(\"what is the weather in SF\")\n",
    "print(search_results)\n",
    "# If we want, we can create other tools.\n",
    "# Once we have all the tools we want, we can put them in a list that we will reference later.\n",
    "tools = [search]"
   ]
  },
  {
   "cell_type": "code",
   "execution_count": 6,
   "id": "84490a01-1b91-47c6-9e43-d56dfa20800e",
   "metadata": {},
   "outputs": [
    {
     "data": {
      "text/plain": [
       "[TavilySearchResults(max_results=2, api_wrapper=TavilySearchAPIWrapper(tavily_api_key=SecretStr('**********')))]"
      ]
     },
     "execution_count": 6,
     "metadata": {},
     "output_type": "execute_result"
    }
   ],
   "source": [
    "tools"
   ]
  },
  {
   "cell_type": "code",
   "execution_count": 5,
   "id": "6088a931-7e53-4377-b079-5a260f5260f4",
   "metadata": {},
   "outputs": [
    {
     "name": "stdout",
     "output_type": "stream",
     "text": [
      "Hello! How can I help you today?\n",
      "ContentString: Hi there! How can I help you today?\n",
      "ToolCalls: []\n",
      "ContentString: I will search for 'weather in SF' to find the answer.\n",
      "ToolCalls: [{'name': 'tavily_search_results_json', 'args': {'query': 'weather in SF'}, 'id': 'd3657af990174b41bc2fc8a4d8a7cfb4', 'type': 'tool_call'}]\n"
     ]
    }
   ],
   "source": [
    "\"\"\"\n",
    "A Simple Agent using Cohere API\n",
    "\"\"\"\n",
    "\n",
    "from langchain_cohere import ChatCohere\n",
    "from langchain_core.messages import HumanMessage\n",
    "\n",
    "# Initialize the Cohere model\n",
    "model = ChatCohere()\n",
    "\n",
    "# Invoke the Cohere model with a simple prompt\n",
    "response = model.invoke([HumanMessage(content=\"hi!\")])\n",
    "print(response.content)\n",
    "\n",
    "# Example: Binding tools to the Cohere model\n",
    "model_with_tools = model.bind_tools(tools)  # Bind the tools to the model\n",
    "\n",
    "# Invoke the model with tools\n",
    "response = model_with_tools.invoke([HumanMessage(content=\"Hi!\")])\n",
    "print(f\"ContentString: {response.content}\")\n",
    "print(f\"ToolCalls: {response.tool_calls}\")\n",
    "\n",
    "# Example of asking a tool-enabled question\n",
    "response = model_with_tools.invoke([HumanMessage(content=\"What's the weather in SF?\")])\n",
    "print(f\"ContentString: {response.content}\")\n",
    "print(f\"ToolCalls: {response.tool_calls}\")\n"
   ]
  },
  {
   "cell_type": "code",
   "execution_count": 7,
   "id": "f26b1c91-a04b-41f9-a09c-ae56f4f7db34",
   "metadata": {
    "scrolled": true
   },
   "outputs": [
    {
     "name": "stdout",
     "output_type": "stream",
     "text": [
      "[HumanMessage(content='hi!', additional_kwargs={}, response_metadata={}, id='369a93a0-db1d-4850-9af0-27dd72cc8efb'), AIMessage(content='Hi! How can I help you today?', additional_kwargs={'documents': None, 'citations': None, 'search_results': None, 'search_queries': None, 'is_search_required': None, 'generation_id': 'ad080a35-38a1-4875-8937-b45642f7a64a', 'token_count': {'input_tokens': 925.0, 'output_tokens': 80.0}}, response_metadata={'documents': None, 'citations': None, 'search_results': None, 'search_queries': None, 'is_search_required': None, 'generation_id': 'ad080a35-38a1-4875-8937-b45642f7a64a', 'token_count': {'input_tokens': 925.0, 'output_tokens': 80.0}}, id='run-00918b5e-1a91-44b2-aeca-3d62c0f79b85-0', usage_metadata={'input_tokens': 925, 'output_tokens': 80, 'total_tokens': 1005})]\n",
      "[HumanMessage(content='WHAT IS THE WEATHER IN PUNE!', additional_kwargs={}, response_metadata={}, id='4ebee13e-c92c-47f7-ba94-c2ace5466ad0'), AIMessage(content=\"I will search for 'weather in Pune'\", additional_kwargs={'documents': None, 'citations': None, 'search_results': None, 'search_queries': None, 'is_search_required': None, 'generation_id': '98a019e3-f510-4227-aabe-fe77b981ebd9', 'tool_calls': [{'id': '4083c0071fdd4f0f82fc7961d2e00be8', 'function': {'name': 'tavily_search_results_json', 'arguments': '{\"query\": \"weather in Pune\"}'}, 'type': 'function'}], 'token_count': {'input_tokens': 932.0, 'output_tokens': 59.0}}, response_metadata={'documents': None, 'citations': None, 'search_results': None, 'search_queries': None, 'is_search_required': None, 'generation_id': '98a019e3-f510-4227-aabe-fe77b981ebd9', 'tool_calls': [{'id': '4083c0071fdd4f0f82fc7961d2e00be8', 'function': {'name': 'tavily_search_results_json', 'arguments': '{\"query\": \"weather in Pune\"}'}, 'type': 'function'}], 'token_count': {'input_tokens': 932.0, 'output_tokens': 59.0}}, id='run-07ab0b6f-84e7-4ebc-9b1f-600550bb7616-0', tool_calls=[{'name': 'tavily_search_results_json', 'args': {'query': 'weather in Pune'}, 'id': '509931ddebae45239974b50023fd2d5c', 'type': 'tool_call'}], usage_metadata={'input_tokens': 932, 'output_tokens': 59, 'total_tokens': 991}), ToolMessage(content='[{\"url\": \"https://www.weatherapi.com/\", \"content\": \"{\\'location\\': {\\'name\\': \\'Pune\\', \\'region\\': \\'Maharashtra\\', \\'country\\': \\'India\\', \\'lat\\': 18.5333, \\'lon\\': 73.8667, \\'tz_id\\': \\'Asia/Kolkata\\', \\'localtime_epoch\\': 1732062504, \\'localtime\\': \\'2024-11-20 05:58\\'}, \\'current\\': {\\'last_updated_epoch\\': 1732061700, \\'last_updated\\': \\'2024-11-20 05:45\\', \\'temp_c\\': 16.4, \\'temp_f\\': 61.6, \\'is_day\\': 0, \\'condition\\': {\\'text\\': \\'Clear\\', \\'icon\\': \\'//cdn.weatherapi.com/weather/64x64/night/113.png\\', \\'code\\': 1000}, \\'wind_mph\\': 4.7, \\'wind_kph\\': 7.6, \\'wind_degree\\': 108, \\'wind_dir\\': \\'ESE\\', \\'pressure_mb\\': 1014.0, \\'pressure_in\\': 29.94, \\'precip_mm\\': 0.0, \\'precip_in\\': 0.0, \\'humidity\\': 59, \\'cloud\\': 0, \\'feelslike_c\\': 16.4, \\'feelslike_f\\': 61.6, \\'windchill_c\\': 16.4, \\'windchill_f\\': 61.6, \\'heatindex_c\\': 16.4, \\'heatindex_f\\': 61.6, \\'dewpoint_c\\': 8.4, \\'dewpoint_f\\': 47.0, \\'vis_km\\': 10.0, \\'vis_miles\\': 6.0, \\'uv\\': 0.0, \\'gust_mph\\': 9.9, \\'gust_kph\\': 15.9}}\"}, {\"url\": \"https://www.hindustantimes.com/cities/pune-news/pune-weather-today-aqi-and-rain-forecast-updates-november-19-2024-101731979822615.html\", \"content\": \"Check the weather forecast and air quality updates for Pune on November 19, 2024 here. ... November 20, 2024, Pune is predicted to experience a minimum and maximum temperature of 17.28 °C and 28.\"}]', name='tavily_search_results_json', id='743b4aad-5ba6-42aa-b13d-b4616a4e32e7', tool_call_id='509931ddebae45239974b50023fd2d5c', artifact={'query': 'weather in Pune', 'follow_up_questions': None, 'answer': None, 'images': [], 'results': [{'title': 'Weather in Pune', 'url': 'https://www.weatherapi.com/', 'content': \"{'location': {'name': 'Pune', 'region': 'Maharashtra', 'country': 'India', 'lat': 18.5333, 'lon': 73.8667, 'tz_id': 'Asia/Kolkata', 'localtime_epoch': 1732062504, 'localtime': '2024-11-20 05:58'}, 'current': {'last_updated_epoch': 1732061700, 'last_updated': '2024-11-20 05:45', 'temp_c': 16.4, 'temp_f': 61.6, 'is_day': 0, 'condition': {'text': 'Clear', 'icon': '//cdn.weatherapi.com/weather/64x64/night/113.png', 'code': 1000}, 'wind_mph': 4.7, 'wind_kph': 7.6, 'wind_degree': 108, 'wind_dir': 'ESE', 'pressure_mb': 1014.0, 'pressure_in': 29.94, 'precip_mm': 0.0, 'precip_in': 0.0, 'humidity': 59, 'cloud': 0, 'feelslike_c': 16.4, 'feelslike_f': 61.6, 'windchill_c': 16.4, 'windchill_f': 61.6, 'heatindex_c': 16.4, 'heatindex_f': 61.6, 'dewpoint_c': 8.4, 'dewpoint_f': 47.0, 'vis_km': 10.0, 'vis_miles': 6.0, 'uv': 0.0, 'gust_mph': 9.9, 'gust_kph': 15.9}}\", 'score': 0.9989512, 'raw_content': None}, {'title': 'Pune Weather and AQI Today: Warm start at 17.95 °C, check weather ...', 'url': 'https://www.hindustantimes.com/cities/pune-news/pune-weather-today-aqi-and-rain-forecast-updates-november-19-2024-101731979822615.html', 'content': 'Check the weather forecast and air quality updates for Pune on November 19, 2024 here. ... November 20, 2024, Pune is predicted to experience a minimum and maximum temperature of 17.28 °C and 28.', 'score': 0.9986541, 'raw_content': None}], 'response_time': 3.73}), AIMessage(content='The current temperature in Pune is 16.4 °C. It is clear and there is no precipitation. The wind speed is 7.6 kph and the humidity is 59%.', additional_kwargs={'documents': [{'id': 'tavily_search_results_json:0:2:0', 'output': '[{\"url\": \"https://www.weatherapi.com/\", \"content\": \"{\\'location\\': {\\'name\\': \\'Pune\\', \\'region\\': \\'Maharashtra\\', \\'country\\': \\'India\\', \\'lat\\': 18.5333, \\'lon\\': 73.8667, \\'tz_id\\': \\'Asia/Kolkata\\', \\'localtime_epoch\\': 1732062504, \\'localtime\\': \\'2024-11-20 05:58\\'}, \\'current\\': {\\'last_updated_epoch\\': 1732061700, \\'last_updated\\': \\'2024-11-20 05:45\\', \\'temp_c\\': 16.4, \\'temp_f\\': 61.6, \\'is_day\\': 0, \\'condition\\': {\\'text\\': \\'Clear\\', \\'icon\\': \\'//cdn.weatherapi.com/weather/64x64/night/113.png\\', \\'code\\': 1000}, \\'wind_mph\\': 4.7, \\'wind_kph\\': 7.6, \\'wind_degree\\': 108, \\'wind_dir\\': \\'ESE\\', \\'pressure_mb\\': 1014.0, \\'pressure_in\\': 29.94, \\'precip_mm\\': 0.0, \\'precip_in\\': 0.0, \\'humidity\\': 59, \\'cloud\\': 0, \\'feelslike_c\\': 16.4, \\'feelslike_f\\': 61.6, \\'windchill_c\\': 16.4, \\'windchill_f\\': 61.6, \\'heatindex_c\\': 16.4, \\'heatindex_f\\': 61.6, \\'dewpoint_c\\': 8.4, \\'dewpoint_f\\': 47.0, \\'vis_km\\': 10.0, \\'vis_miles\\': 6.0, \\'uv\\': 0.0, \\'gust_mph\\': 9.9, \\'gust_kph\\': 15.9}}\"}, {\"url\": \"https://www.hindustantimes.com/cities/pune-news/pune-weather-today-aqi-and-rain-forecast-updates-november-19-2024-101731979822615.html\", \"content\": \"Check the weather forecast and air quality updates for Pune on November 19, 2024 here. ... November 20, 2024, Pune is predicted to experience a minimum and maximum temperature of 17.28 °C and 28.\"}]', 'tool_name': 'tavily_search_results_json'}], 'citations': [ChatCitation(start=35, end=43, text='16.4 °C.', document_ids=['tavily_search_results_json:0:2:0']), ChatCitation(start=50, end=55, text='clear', document_ids=['tavily_search_results_json:0:2:0']), ChatCitation(start=69, end=86, text='no precipitation.', document_ids=['tavily_search_results_json:0:2:0']), ChatCitation(start=91, end=112, text='wind speed is 7.6 kph', document_ids=['tavily_search_results_json:0:2:0']), ChatCitation(start=121, end=137, text='humidity is 59%.', document_ids=['tavily_search_results_json:0:2:0'])], 'search_results': None, 'search_queries': None, 'is_search_required': None, 'generation_id': 'a84198d4-9c4c-4b46-84ba-d2d37d841bed', 'token_count': {'input_tokens': 1647.0, 'output_tokens': 161.0}}, response_metadata={'documents': [{'id': 'tavily_search_results_json:0:2:0', 'output': '[{\"url\": \"https://www.weatherapi.com/\", \"content\": \"{\\'location\\': {\\'name\\': \\'Pune\\', \\'region\\': \\'Maharashtra\\', \\'country\\': \\'India\\', \\'lat\\': 18.5333, \\'lon\\': 73.8667, \\'tz_id\\': \\'Asia/Kolkata\\', \\'localtime_epoch\\': 1732062504, \\'localtime\\': \\'2024-11-20 05:58\\'}, \\'current\\': {\\'last_updated_epoch\\': 1732061700, \\'last_updated\\': \\'2024-11-20 05:45\\', \\'temp_c\\': 16.4, \\'temp_f\\': 61.6, \\'is_day\\': 0, \\'condition\\': {\\'text\\': \\'Clear\\', \\'icon\\': \\'//cdn.weatherapi.com/weather/64x64/night/113.png\\', \\'code\\': 1000}, \\'wind_mph\\': 4.7, \\'wind_kph\\': 7.6, \\'wind_degree\\': 108, \\'wind_dir\\': \\'ESE\\', \\'pressure_mb\\': 1014.0, \\'pressure_in\\': 29.94, \\'precip_mm\\': 0.0, \\'precip_in\\': 0.0, \\'humidity\\': 59, \\'cloud\\': 0, \\'feelslike_c\\': 16.4, \\'feelslike_f\\': 61.6, \\'windchill_c\\': 16.4, \\'windchill_f\\': 61.6, \\'heatindex_c\\': 16.4, \\'heatindex_f\\': 61.6, \\'dewpoint_c\\': 8.4, \\'dewpoint_f\\': 47.0, \\'vis_km\\': 10.0, \\'vis_miles\\': 6.0, \\'uv\\': 0.0, \\'gust_mph\\': 9.9, \\'gust_kph\\': 15.9}}\"}, {\"url\": \"https://www.hindustantimes.com/cities/pune-news/pune-weather-today-aqi-and-rain-forecast-updates-november-19-2024-101731979822615.html\", \"content\": \"Check the weather forecast and air quality updates for Pune on November 19, 2024 here. ... November 20, 2024, Pune is predicted to experience a minimum and maximum temperature of 17.28 °C and 28.\"}]', 'tool_name': 'tavily_search_results_json'}], 'citations': [ChatCitation(start=35, end=43, text='16.4 °C.', document_ids=['tavily_search_results_json:0:2:0']), ChatCitation(start=50, end=55, text='clear', document_ids=['tavily_search_results_json:0:2:0']), ChatCitation(start=69, end=86, text='no precipitation.', document_ids=['tavily_search_results_json:0:2:0']), ChatCitation(start=91, end=112, text='wind speed is 7.6 kph', document_ids=['tavily_search_results_json:0:2:0']), ChatCitation(start=121, end=137, text='humidity is 59%.', document_ids=['tavily_search_results_json:0:2:0'])], 'search_results': None, 'search_queries': None, 'is_search_required': None, 'generation_id': 'a84198d4-9c4c-4b46-84ba-d2d37d841bed', 'token_count': {'input_tokens': 1647.0, 'output_tokens': 161.0}}, id='run-0b38e020-197c-4c62-9057-a24900b58f37-0', usage_metadata={'input_tokens': 1647, 'output_tokens': 161, 'total_tokens': 1808})]\n"
     ]
    }
   ],
   "source": [
    "from langgraph.prebuilt import create_react_agent\n",
    "\n",
    "agent_executor = create_react_agent(model, tools)\n",
    "\n",
    "response = agent_executor.invoke({\"messages\": [HumanMessage(content=\"hi!\")]})\n",
    "\n",
    "print(response[\"messages\"])\n",
    "\n",
    "response = agent_executor.invoke({\"messages\": [HumanMessage(content=\"WHAT IS THE WEATHER IN PUNE!\")]})\n",
    "print(response[\"messages\"])"
   ]
  },
  {
   "cell_type": "code",
   "execution_count": 22,
   "id": "322a8313-d166-469a-8440-2c32f4bfb6f4",
   "metadata": {},
   "outputs": [],
   "source": [
    "# response['messages'][3]"
   ]
  },
  {
   "cell_type": "code",
   "execution_count": 23,
   "id": "ff41a818-0133-4eac-9fdb-daee550beba3",
   "metadata": {},
   "outputs": [
    {
     "name": "stdout",
     "output_type": "stream",
     "text": [
      "{'agent': {'messages': [AIMessage(content='Hi Bob! How can I help you today?', additional_kwargs={'documents': None, 'citations': None, 'search_results': None, 'search_queries': None, 'is_search_required': None, 'generation_id': '7b73c5a4-35dd-4638-a97a-29424ef30abd', 'token_count': {'input_tokens': 927.0, 'output_tokens': 82.0}}, response_metadata={'documents': None, 'citations': None, 'search_results': None, 'search_queries': None, 'is_search_required': None, 'generation_id': '7b73c5a4-35dd-4638-a97a-29424ef30abd', 'token_count': {'input_tokens': 927.0, 'output_tokens': 82.0}}, id='run-a572770e-47d1-4206-bc57-dfa17eec34f7-0', usage_metadata={'input_tokens': 927, 'output_tokens': 82, 'total_tokens': 1009})]}}\n",
      "----\n"
     ]
    }
   ],
   "source": [
    "from langgraph.checkpoint.memory import MemorySaver\n",
    "\n",
    "memory = MemorySaver()\n",
    "\n",
    "agent_executor = create_react_agent(model, tools, checkpointer=memory)\n",
    "\n",
    "config = {\"configurable\": {\"thread_id\": \"123\"}}\n",
    "\n",
    "\n",
    "for chunk in agent_executor.stream(\n",
    "    {\"messages\": [HumanMessage(content=\"hi im bob!\")]}, config\n",
    "):\n",
    "    print(chunk)\n",
    "    print(\"----\")"
   ]
  },
  {
   "cell_type": "code",
   "execution_count": 26,
   "id": "e6e686fd-6932-4e3a-833a-e80f8f22a3d9",
   "metadata": {},
   "outputs": [
    {
     "name": "stdout",
     "output_type": "stream",
     "text": [
      "{'agent': {'messages': [AIMessage(content='Your name is Bob.', additional_kwargs={'documents': None, 'citations': None, 'search_results': None, 'search_queries': None, 'is_search_required': None, 'generation_id': '9f26978e-1560-410c-8647-0cc6d073adb5', 'token_count': {'input_tokens': 986.0, 'output_tokens': 60.0}}, response_metadata={'documents': None, 'citations': None, 'search_results': None, 'search_queries': None, 'is_search_required': None, 'generation_id': '9f26978e-1560-410c-8647-0cc6d073adb5', 'token_count': {'input_tokens': 986.0, 'output_tokens': 60.0}}, id='run-51104048-258d-4794-8875-3bb63a059f31-0', usage_metadata={'input_tokens': 986, 'output_tokens': 60, 'total_tokens': 1046})]}}\n",
      "----\n"
     ]
    }
   ],
   "source": [
    "agent_executor = create_react_agent(model, tools, checkpointer=memory)\n",
    "\n",
    "config = {\"configurable\": {\"thread_id\": \"123\"}}\n",
    "\n",
    "\n",
    "for chunk in agent_executor.stream(\n",
    "    {\"messages\": [HumanMessage(content=\"What is my Name?\")]}, config\n",
    "):\n",
    "    print(chunk)\n",
    "    print(\"----\")"
   ]
  }
 ],
 "metadata": {
  "kernelspec": {
   "display_name": "Python 3 (ipykernel)",
   "language": "python",
   "name": "python3"
  },
  "language_info": {
   "codemirror_mode": {
    "name": "ipython",
    "version": 3
   },
   "file_extension": ".py",
   "mimetype": "text/x-python",
   "name": "python",
   "nbconvert_exporter": "python",
   "pygments_lexer": "ipython3",
   "version": "3.11.7"
  }
 },
 "nbformat": 4,
 "nbformat_minor": 5
}
