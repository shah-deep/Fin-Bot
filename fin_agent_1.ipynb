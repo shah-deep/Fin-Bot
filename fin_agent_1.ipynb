{
 "cells": [
  {
   "cell_type": "code",
   "execution_count": 40,
   "id": "0db01306-6921-4d8b-ae55-51d4d304090d",
   "metadata": {},
   "outputs": [],
   "source": [
    "from dotenv import load_dotenv\n",
    "load_dotenv()\n",
    "cohere_api_key=os.getenv(\"COHERE_API_KEY\")\n",
    "alpha_vantage_api_key=os.getenv(\"ALPHA_VANTAGE_API_KEY\")"
   ]
  },
  {
   "cell_type": "code",
   "execution_count": 49,
   "id": "774bf8bd-2bfb-4481-8f88-945391a0b3f0",
   "metadata": {},
   "outputs": [
    {
     "ename": "TypeError",
     "evalue": "create_structured_chat_agent() got an unexpected keyword argument 'output_key'",
     "output_type": "error",
     "traceback": [
      "\u001b[1;31m---------------------------------------------------------------------------\u001b[0m",
      "\u001b[1;31mTypeError\u001b[0m                                 Traceback (most recent call last)",
      "Cell \u001b[1;32mIn[49], line 116\u001b[0m\n\u001b[0;32m    114\u001b[0m \u001b[38;5;66;03m# Create the agent\u001b[39;00m\n\u001b[0;32m    115\u001b[0m memory \u001b[38;5;241m=\u001b[39m ConversationBufferMemory(memory_key\u001b[38;5;241m=\u001b[39m\u001b[38;5;124m\"\u001b[39m\u001b[38;5;124mhistory\u001b[39m\u001b[38;5;124m\"\u001b[39m)\n\u001b[1;32m--> 116\u001b[0m agent \u001b[38;5;241m=\u001b[39m \u001b[43mcreate_structured_chat_agent\u001b[49m\u001b[43m(\u001b[49m\n\u001b[0;32m    117\u001b[0m \u001b[43m    \u001b[49m\u001b[43mllm\u001b[49m\u001b[38;5;241;43m=\u001b[39;49m\u001b[43mcohere_llm\u001b[49m\u001b[43m,\u001b[49m\n\u001b[0;32m    118\u001b[0m \u001b[43m    \u001b[49m\u001b[43mtools\u001b[49m\u001b[38;5;241;43m=\u001b[39;49m\u001b[43mtools\u001b[49m\u001b[43m,\u001b[49m\n\u001b[0;32m    119\u001b[0m \u001b[43m    \u001b[49m\u001b[43mprompt\u001b[49m\u001b[38;5;241;43m=\u001b[39;49m\u001b[43mprompt\u001b[49m\u001b[43m,\u001b[49m\n\u001b[0;32m    120\u001b[0m \u001b[43m    \u001b[49m\u001b[43moutput_key\u001b[49m\u001b[38;5;241;43m=\u001b[39;49m\u001b[38;5;124;43m\"\u001b[39;49m\u001b[38;5;124;43moutput\u001b[39;49m\u001b[38;5;124;43m\"\u001b[39;49m\n\u001b[0;32m    121\u001b[0m \u001b[43m)\u001b[49m\n\u001b[0;32m    123\u001b[0m \u001b[38;5;66;03m# Create executor\u001b[39;00m\n\u001b[0;32m    124\u001b[0m executor \u001b[38;5;241m=\u001b[39m AgentExecutor(agent\u001b[38;5;241m=\u001b[39magent, tools\u001b[38;5;241m=\u001b[39mtools)\n",
      "\u001b[1;31mTypeError\u001b[0m: create_structured_chat_agent() got an unexpected keyword argument 'output_key'"
     ]
    }
   ],
   "source": [
    "from langchain.agents import create_structured_chat_agent, AgentExecutor\n",
    "from langchain.prompts import MessagesPlaceholder\n",
    "from langchain.memory import ConversationBufferMemory\n",
    "from langchain.tools import Tool\n",
    "from langchain.llms import Cohere\n",
    "import requests\n",
    "\n",
    "# Function to fetch financial data from Alpha Vantage API\n",
    "def fetch_financial_data(api_key, ticker):\n",
    "    \"\"\"\n",
    "    Fetch financial data for the given ticker using Alpha Vantage API.\n",
    "    Returns a dictionary with revenue, net income, liabilities, and assets.\n",
    "    \"\"\"\n",
    "    base_url = \"https://www.alphavantage.co/query\"\n",
    "    income_params = {\n",
    "        \"function\": \"INCOME_STATEMENT\",\n",
    "        \"symbol\": ticker,\n",
    "        \"apikey\": api_key\n",
    "    }\n",
    "    balance_params = {\n",
    "        \"function\": \"BALANCE_SHEET\",\n",
    "        \"symbol\": ticker,\n",
    "        \"apikey\": api_key\n",
    "    }\n",
    "\n",
    "    # Fetch Income Statement\n",
    "    income_response = requests.get(base_url, params=income_params)\n",
    "    if income_response.status_code != 200:\n",
    "        return {\"error\": \"Failed to fetch income statement data\"}\n",
    "    income_data = income_response.json()\n",
    "\n",
    "    # Fetch Balance Sheet\n",
    "    balance_response = requests.get(base_url, params=balance_params)\n",
    "    if balance_response.status_code != 200:\n",
    "        return {\"error\": \"Failed to fetch balance sheet data\"}\n",
    "    balance_data = balance_response.json()\n",
    "\n",
    "    # Extract relevant data\n",
    "    try:\n",
    "        latest_income = income_data[\"annualReports\"][0]\n",
    "        latest_balance = balance_data[\"annualReports\"][0]\n",
    "\n",
    "        return {\n",
    "            \"revenue\": float(latest_income[\"totalRevenue\"]),\n",
    "            \"net_income\": float(latest_income[\"netIncome\"]),\n",
    "            \"liabilities\": float(latest_balance[\"totalLiabilities\"]),\n",
    "            \"assets\": float(latest_balance[\"totalAssets\"])\n",
    "        }\n",
    "    except (KeyError, IndexError):\n",
    "        return {\"error\": \"Incomplete financial data\"}\n",
    "\n",
    "# Function to compute financial ratios\n",
    "def compute_ratios(data):\n",
    "    \"\"\"\n",
    "    Compute financial ratios from the provided data.\n",
    "    \"\"\"\n",
    "    revenue = data.get(\"revenue\", 1)  # Avoid division by zero\n",
    "    net_income = data.get(\"net_income\", 0)\n",
    "    liabilities = data.get(\"liabilities\", 0)\n",
    "    assets = data.get(\"assets\", 1)\n",
    "\n",
    "    return {\n",
    "        \"Return on Equity (ROE)\": net_income / (assets - liabilities) if assets != liabilities else 0,\n",
    "        \"Return on Assets (ROA)\": net_income / assets,\n",
    "        \"Gross Margin\": (revenue - liabilities) / revenue if revenue else 0,\n",
    "        \"Net Profit Margin\": net_income / revenue if revenue else 0\n",
    "    }\n",
    "\n",
    "# Define tools for the agent\n",
    "def fetch_financial_tool(input_text):\n",
    "    \"\"\"\n",
    "    Fetch and calculate financial ratios based on stock ticker input.\n",
    "    \"\"\"\n",
    "    ticker = input_text.upper()\n",
    "    # api_key = \"YOUR_ALPHA_VANTAGE_API_KEY\"  # Replace with your Alpha Vantage API key\n",
    "    data = fetch_financial_data(alpha_vantage_api_key, ticker)\n",
    "    if \"error\" in data:\n",
    "        return data[\"error\"]\n",
    "    ratios = compute_ratios(data)\n",
    "    return ratios\n",
    "\n",
    "tools = [\n",
    "    Tool(\n",
    "        name=\"Fetch Financial Ratios\",\n",
    "        func=fetch_financial_tool,\n",
    "        description=\"Fetches financial data and computes ratios based on a stock ticker.\"\n",
    "    )\n",
    "]\n",
    "\n",
    "# Cohere LLM setup\n",
    "cohere_llm = Cohere(model=\"command-xlarge\")  # Replace with your Cohere API key\n",
    "\n",
    "from langchain.prompts.chat import ChatPromptTemplate\n",
    "\n",
    "prompt = ChatPromptTemplate.from_template(\n",
    "    \"\"\"You are a financial assistant. Use the tools provided to answer questions.\n",
    "\n",
    "Tools available:\n",
    "{tools}\n",
    "\n",
    "Names of tools: {tool_names}\n",
    "\n",
    "Conversation history:\n",
    "{history}\n",
    "\n",
    "Current user input:\n",
    "{input}\n",
    "\n",
    "Assistant's reasoning and actions:\n",
    "{agent_scratchpad}\n",
    "\"\"\"\n",
    ")\n",
    "\n",
    "# Create the agent\n",
    "memory = ConversationBufferMemory(memory_key=\"history\")\n",
    "agent = create_structured_chat_agent(\n",
    "    llm=cohere_llm,\n",
    "    tools=tools,\n",
    "    prompt=prompt,\n",
    "    output_key=\"output\"\n",
    ")\n",
    "\n",
    "# Create executor\n",
    "executor = AgentExecutor(agent=agent, tools=tools)\n",
    "\n",
    "ticker = \"AAPL\"  # Replace with desired stock ticker\n",
    "print(executor.run(f\"Fetch financial ratios for {ticker}\"))\n"
   ]
  },
  {
   "cell_type": "code",
   "execution_count": 50,
   "id": "9bd3bba2-8620-47c1-8b48-d8c8ef538701",
   "metadata": {},
   "outputs": [
    {
     "data": {
      "text/plain": [
       "{'Return on Equity (ROE)': 1.6459350307287095,\n",
       " 'Return on Assets (ROA)': 0.25682503150857583,\n",
       " 'Gross Margin': 0.21227000140652372,\n",
       " 'Net Profit Margin': 0.23971255769943867}"
      ]
     },
     "execution_count": 50,
     "metadata": {},
     "output_type": "execute_result"
    }
   ],
   "source": [
    "fetch_financial_tool(ticker)"
   ]
  },
  {
   "cell_type": "code",
   "execution_count": 29,
   "id": "96c7c1ab-38c8-4a93-b68a-68fbbedc1c74",
   "metadata": {},
   "outputs": [
    {
     "name": "stdout",
     "output_type": "stream",
     "text": [
      "Financial Analysis for AAPL:\n",
      "Ticker: AAPL\n",
      "Return on Equity (ROE): 164.59%\n",
      "Return on Assets (ROA): 25.68%\n",
      "Gross Margin: 46.21%\n",
      "Net Profit Margin: 23.97%\n",
      "Debt to Equity Ratio: 5.41\n"
     ]
    }
   ],
   "source": [
    "main()"
   ]
  }
 ],
 "metadata": {
  "kernelspec": {
   "display_name": "Python 3 (ipykernel)",
   "language": "python",
   "name": "python3"
  },
  "language_info": {
   "codemirror_mode": {
    "name": "ipython",
    "version": 3
   },
   "file_extension": ".py",
   "mimetype": "text/x-python",
   "name": "python",
   "nbconvert_exporter": "python",
   "pygments_lexer": "ipython3",
   "version": "3.11.7"
  }
 },
 "nbformat": 4,
 "nbformat_minor": 5
}
