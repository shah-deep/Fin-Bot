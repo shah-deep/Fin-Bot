{
 "cells": [
  {
   "cell_type": "code",
   "execution_count": 1,
   "id": "8d95f4d4-55f9-4727-ae1f-0cb69fcc5c4e",
   "metadata": {},
   "outputs": [],
   "source": [
    "import os\n",
    "from dotenv import load_dotenv\n",
    "load_dotenv()\n",
    "tavily_api_key = os.getenv(\"TAVILY_API_KEY\")\n",
    "cohere_api_key = os.getenv(\"COHERE_API_KEY\")"
   ]
  },
  {
   "cell_type": "code",
   "execution_count": 2,
   "id": "e3f7fa7d-e0b4-492a-9047-3237e126fcb7",
   "metadata": {},
   "outputs": [],
   "source": [
    "from langchain_core.messages import (\n",
    "    BaseMessage,\n",
    "    HumanMessage,\n",
    "    ToolMessage,\n",
    ")\n",
    "from langchain_core.prompts import ChatPromptTemplate, MessagesPlaceholder\n",
    "\n",
    "from langgraph.graph import END, StateGraph, START\n",
    "\n",
    "\n",
    "def create_agent(llm, tools, system_message: str):\n",
    "    \"\"\"Create an agent.\"\"\"\n",
    "    prompt = ChatPromptTemplate.from_messages(\n",
    "        [\n",
    "            (\n",
    "                \"system\",\n",
    "                \"You are a helpful AI assistant, collaborating with other assistants.\"\n",
    "                \" Use the provided tools to progress towards answering the question.\"\n",
    "                \" If you are unable to fully answer, that's OK, another assistant with different tools \"\n",
    "                \" will help where you left off. Execute what you can to make progress.\"\n",
    "                \" If you or any of the other assistants have the final answer or deliverable,\"\n",
    "                \" prefix your response with FINAL ANSWER so the team knows to stop.\"\n",
    "                \" You have access to the following tools: {tool_names}.\\n{system_message}\",\n",
    "            ),\n",
    "            MessagesPlaceholder(variable_name=\"messages\"),\n",
    "        ]\n",
    "    )\n",
    "    prompt = prompt.partial(system_message=system_message)\n",
    "    prompt = prompt.partial(tool_names=\", \".join([tool.name for tool in tools]))\n",
    "    return prompt | llm.bind_tools(tools)"
   ]
  },
  {
   "cell_type": "code",
   "execution_count": 3,
   "id": "a44663e0-f4b6-4fba-8b6a-8da4c1b411ea",
   "metadata": {},
   "outputs": [],
   "source": [
    "from typing import Annotated\n",
    "\n",
    "from langchain_community.tools.tavily_search import TavilySearchResults\n",
    "from langchain_core.tools import tool\n",
    "from langchain_experimental.utilities import PythonREPL\n",
    "\n",
    "tavily_tool = TavilySearchResults(max_results=5)\n",
    "\n",
    "# Warning: This executes code locally, which can be unsafe when not sandboxed\n",
    "\n",
    "repl = PythonREPL()\n",
    "\n",
    "\n",
    "@tool\n",
    "def python_repl(\n",
    "    code: Annotated[str, \"The python code to execute to generate your chart.\"],\n",
    "):\n",
    "    \"\"\"Use this to execute python code. If you want to see the output of a value,\n",
    "    you should print it out with `print(...)`. This is visible to the user.\"\"\"\n",
    "    try:\n",
    "        result = repl.run(code)\n",
    "    except BaseException as e:\n",
    "        return f\"Failed to execute. Error: {repr(e)}\"\n",
    "    result_str = f\"Successfully executed:\\n```python\\n{code}\\n```\\nStdout: {result}\"\n",
    "    return (\n",
    "        result_str + \"\\n\\nIf you have completed all tasks, respond with FINAL ANSWER.\")"
   ]
  },
  {
   "cell_type": "code",
   "execution_count": 4,
   "id": "39c7a457-3c0e-47ac-b74a-15283b4d7998",
   "metadata": {},
   "outputs": [],
   "source": [
    "import operator\n",
    "from typing import Annotated, Sequence, TypedDict\n",
    "\n",
    "from langchain_cohere import ChatCohere\n",
    "\n",
    "\n",
    "# This defines the object that is passed between each node\n",
    "# in the graph. We will create different nodes for each agent and tool\n",
    "class AgentState(TypedDict):\n",
    "    messages: Annotated[Sequence[BaseMessage], operator.add]\n",
    "    sender: str"
   ]
  },
  {
   "cell_type": "code",
   "execution_count": 5,
   "id": "48d9fdf6-bd64-4a62-8d51-34f033b4d5f5",
   "metadata": {},
   "outputs": [],
   "source": [
    "import functools\n",
    "\n",
    "from langchain_core.messages import AIMessage\n",
    "\n",
    "\n",
    "# Helper function to create a node for a given agent\n",
    "def agent_node(state, agent, name):\n",
    "    try:\n",
    "        print(\"\\n\\n\\nSTATE\", state, \"\\n\\n\\n\")\n",
    "        result = agent.invoke(state)\n",
    "        #print(result)\n",
    "    except:\n",
    "        #print(state, agent, name)\n",
    "        ...\n",
    "    # We convert the agent output into a format that is suitable to append to the global state\n",
    "    if isinstance(result, ToolMessage):\n",
    "        pass\n",
    "    else:\n",
    "        result = AIMessage(**result.dict(exclude={\"type\", \"name\"}), name=name)\n",
    "    return {\n",
    "        \"messages\": [result],\n",
    "        # Since we have a strict workflow, we can\n",
    "        # track the sender so we know who to pass to next.\n",
    "        \"sender\": name,\n",
    "    }\n",
    "\n",
    "\n",
    "llm = ChatCohere()\n",
    "\n",
    "# Research agent and node\n",
    "research_agent = create_agent(\n",
    "    llm,\n",
    "    [tavily_tool],\n",
    "    system_message=\"You should provide accurate data for the chart_generator to use.\",\n",
    ")\n",
    "research_node = functools.partial(agent_node, agent=research_agent, name=\"Researcher\")\n",
    "\n",
    "# chart_generator\n",
    "chart_agent = create_agent(\n",
    "    llm,\n",
    "    [python_repl],\n",
    "    system_message=\"Any charts you display will be visible by the user.\",\n",
    ")\n",
    "chart_node = functools.partial(agent_node, agent=chart_agent, name=\"chart_generator\")\n",
    "\n",
    "\n",
    "from langgraph.prebuilt import ToolNode\n",
    "\n",
    "tools = [tavily_tool, python_repl]\n",
    "tool_node = ToolNode(tools)"
   ]
  },
  {
   "cell_type": "code",
   "execution_count": 6,
   "id": "c8209301-fcac-47d5-b65d-99e340af3a33",
   "metadata": {},
   "outputs": [],
   "source": [
    "# Either agent can decide to end\n",
    "from typing import Literal\n",
    "\n",
    "\n",
    "def router(state) -> Literal[\"call_tool\", \"__end__\", \"continue\"]:\n",
    "    # This is the router\n",
    "    messages = state[\"messages\"]\n",
    "    last_message = messages[-1]\n",
    "    if last_message.tool_calls:\n",
    "        # The previous agent is invoking a tool\n",
    "        return \"call_tool\"\n",
    "    if \"FINAL ANSWER\" in last_message.content:\n",
    "        # Any agent decided the work is done\n",
    "        return \"__end__\"\n",
    "    return \"continue\""
   ]
  },
  {
   "cell_type": "code",
   "execution_count": 7,
   "id": "89c263fd-d82e-4acf-932f-c17b8a21d282",
   "metadata": {},
   "outputs": [],
   "source": [
    "workflow = StateGraph(AgentState)\n",
    "\n",
    "workflow.add_node(\"Researcher\", research_node)\n",
    "workflow.add_node(\"chart_generator\", chart_node)\n",
    "workflow.add_node(\"call_tool\", tool_node)\n",
    "\n",
    "workflow.add_conditional_edges(\n",
    "    \"Researcher\",\n",
    "    router,\n",
    "    {\"continue\": \"chart_generator\", \"call_tool\": \"call_tool\", \"__end__\": END},\n",
    ")\n",
    "workflow.add_conditional_edges(\n",
    "    \"chart_generator\",\n",
    "    router,\n",
    "    {\"continue\": \"Researcher\", \"call_tool\": \"call_tool\", \"__end__\": END},\n",
    ")\n",
    "\n",
    "workflow.add_conditional_edges(\n",
    "    \"call_tool\",\n",
    "    # Each agent node updates the 'sender' field\n",
    "    # the tool calling node does not, meaning\n",
    "    # this edge will route back to the original agent\n",
    "    # who invoked the tool\n",
    "    lambda x: x[\"sender\"],\n",
    "    {\n",
    "        \"Researcher\": \"Researcher\",\n",
    "        \"chart_generator\": \"chart_generator\",\n",
    "    },\n",
    ")\n",
    "workflow.add_edge(START, \"Researcher\")\n",
    "graph = workflow.compile()"
   ]
  },
  {
   "cell_type": "code",
   "execution_count": 9,
   "id": "8bff3170-12d1-4852-8308-e0aa568af10d",
   "metadata": {},
   "outputs": [],
   "source": [
    "from IPython.display import Image, display\n",
    "\n",
    "try:\n",
    "    #display(Image(graph.get_graph(xray=True).draw_mermaid_png()))\n",
    "    ...\n",
    "except Exception:\n",
    "    # This requires some extra dependencies and is optional\n",
    "    pass"
   ]
  },
  {
   "cell_type": "code",
   "execution_count": 10,
   "id": "cb0cb057-06ff-4756-98a7-40c929e02463",
   "metadata": {},
   "outputs": [
    {
     "name": "stdout",
     "output_type": "stream",
     "text": [
      "\n",
      "\n",
      "\n",
      "STATE {'messages': [HumanMessage(content=\"Fetch India's GDP for past 5 years and plot a chart of it\", additional_kwargs={}, response_metadata={})]} \n",
      "\n",
      "\n",
      "\n",
      "----\n",
      "----\n",
      "\n",
      "\n",
      "\n",
      "STATE {'messages': [HumanMessage(content=\"Fetch India's GDP for past 5 years and plot a chart of it\", additional_kwargs={}, response_metadata={}), AIMessage(content=\"I will search for India's GDP for the past 5 years.\", additional_kwargs={'documents': None, 'citations': None, 'search_results': None, 'search_queries': None, 'is_search_required': None, 'generation_id': '428efb38-1ae1-45ed-b537-c2f56f99c2a6', 'tool_calls': [{'id': '51f22108d7a44ef4b9e311558ddb5b4e', 'function': {'name': 'tavily_search_results_json', 'arguments': '{\"query\": \"India\\'s GDP for the past 5 years\"}'}, 'type': 'function'}], 'token_count': {'input_tokens': 1058.0, 'output_tokens': 70.0}}, response_metadata={'documents': None, 'citations': None, 'search_results': None, 'search_queries': None, 'is_search_required': None, 'generation_id': '428efb38-1ae1-45ed-b537-c2f56f99c2a6', 'tool_calls': [{'id': '51f22108d7a44ef4b9e311558ddb5b4e', 'function': {'name': 'tavily_search_results_json', 'arguments': '{\"query\": \"India\\'s GDP for the past 5 years\"}'}, 'type': 'function'}], 'token_count': {'input_tokens': 1058.0, 'output_tokens': 70.0}}, name='Researcher', id='run-c8d3ca1e-e994-45c6-aa06-bf70c99c718b-0', tool_calls=[{'name': 'tavily_search_results_json', 'args': {'query': \"India's GDP for the past 5 years\"}, 'id': 'd8c72e778bf04a609a728a654039af50', 'type': 'tool_call'}], usage_metadata={'input_tokens': 1058, 'output_tokens': 70, 'total_tokens': 1128}), ToolMessage(content='[{\"url\": \"https://bse2nse.com/fundamental-technical-analysis/3128-indias-gdp-growth-rate-chart-last-5-years.html\", \"content\": \"India\\'s GDP Growth Rate Chart - Last 5 years India\\'s GDP Growth Rate Chart - Last 5 years Fundamental / Technical Analysis - India\\'s GDP Growth Rate Chart - Last 5 years in STRATEGIES & PLANS - Below\\'s India\\'s GDP growth rate chart for the last 5 years. India\\'s GDP Growth Rate Chart - Last 5 years India\\'s GDP Growth Rate Chart - Last 5 years Below\\'s India\\'s GDP growth rate chart for the last 5 years. india gdp growth rate for last 5 years indias gdp growth rate for the last 10 years what is indias gdp and growth rate for last 5 years\"}, {\"url\": \"https://tradingeconomics.com/india/gdp-growth-annual\", \"content\": \"GDP Annual Growth Rate in India averaged 5.93 percent from 1951 until 2023, reaching an all time high of 21.60 percent in the second quarter of 2021 and a record low of -23.40 percent in the second quarter of 2020. India GDP Annual Growth Rate\\\\nThe Indian economy expanded 7.6% year-on-year in the third quarter of 2023, following a strong 7.8% growth in the previous period and beating forecasts of a 6.8% rise. The Gross Domestic Product (GDP) in India expanded 7.60 percent in the third quarter of 2023 over the same quarter of the previous year.\\\\n Markets\\\\nGDP\\\\nLabour\\\\nPrices\\\\nHealth\\\\nMoney\\\\nTrade\\\\nGovernment\\\\nBusiness\\\\nConsumer\\\\nHousing\\\\nTaxes\\\\nClimate The Gross Domestic Product (GDP) in India expanded 7.60 percent in the third quarter of 2023 over the same quarter of the previous year.\"}, {\"url\": \"https://tradingeconomics.com/india/full-year-gdp-growth\", \"content\": \"Markets\\\\nGDP\\\\nLabour\\\\nPrices\\\\nHealth\\\\nMoney\\\\nTrade\\\\nGovernment\\\\nBusiness\\\\nConsumer\\\\nHousing\\\\nTaxes\\\\nClimate India Fiscal Year GDP Growth\\\\nThe Indian economy expanded 7.3% in the 2023-24 fiscal year ending in March, higher than 7.2% in the previous year, according to preliminary government estimates, with state spending on infrastructure projects offering a boost. source: Ministry of Statistics and Programme Implementation (MOSPI)\\\\nFull Year GDP Growth in India increased to 7.30 percent in 2024 from 7.20 percent in 2023.\\\\n In the long-term, the India Fiscal Year GDP Growth is projected to trend around 7.00 percent in 2025 and 6.50 percent in 2026, according to our econometric models.\\\\n On the production front, faster increases were seen in manufacturing (6.5% vs 1.3%), construction (10.7% vs 10%), finance and real estate services (8.9% vs 7.1%) and mining (8.1% vs 4.6%), while lower growth rates were recorded for agriculture (1.8% vs 4%), utilities (8.3% vs 9%), trade, hotels, transport and communication (6.3% vs 14%).\"}, {\"url\": \"https://www.macrotrends.net/global-metrics/countries/IND/india/gdp-growth-rate\", \"content\": \"India gdp growth rate for 2023 was 7.58%, a 0.6% increase from 2022. India gdp growth rate for 2022 was 6.99%, a 2.7% decline from 2021. India gdp growth rate for 2021 was 9.69%, a 15.47% increase from 2020. India gdp growth rate for 2020 was -5.78%, a 9.65% decline from 2019. Annual percentage growth rate of GDP at market prices based on\"}, {\"url\": \"https://data.worldbank.org/indicator/NY.GDP.MKTP.KD.ZG?locations=IN\", \"content\": \"GDP growth (annual %) - India | Data Data GDP growth (annual %)India Data Catalog DataBank Data Programs International Debt Statistics Other Books and Reports For Developers GDP growth (annual %) - India ============================= Similar values Highest values Lowest values GDP (constant 2015 US$)  GDP (current US$)  GDP (constant LCU)  GDP: linked series (current LCU)  GDP, PPP (constant 2021 international $)  GDP (current LCU)  GDP, PPP (current international $)  GDP per capita growth (annual %)  Country Most Recent Value All Countries and Economies Country Most Recent Value This site uses cookies to optimize functionality and give you the best possible experience. If you continue to navigate this website beyond this page, cookies will be placed on your browser.\"}]', name='tavily_search_results_json', tool_call_id='d8c72e778bf04a609a728a654039af50', artifact={'query': \"India's GDP for the past 5 years\", 'follow_up_questions': None, 'answer': None, 'images': [], 'results': [{'title': \"India's GDP Growth Rate Chart - Last 5 years - BSE2NSE\", 'url': 'https://bse2nse.com/fundamental-technical-analysis/3128-indias-gdp-growth-rate-chart-last-5-years.html', 'content': \"India's GDP Growth Rate Chart - Last 5 years India's GDP Growth Rate Chart - Last 5 years Fundamental / Technical Analysis - India's GDP Growth Rate Chart - Last 5 years in STRATEGIES & PLANS - Below's India's GDP growth rate chart for the last 5 years. India's GDP Growth Rate Chart - Last 5 years India's GDP Growth Rate Chart - Last 5 years Below's India's GDP growth rate chart for the last 5 years. india gdp growth rate for last 5 years indias gdp growth rate for the last 10 years what is indias gdp and growth rate for last 5 years\", 'score': 0.9950177, 'raw_content': None}, {'title': 'India GDP Annual Growth Rate - TRADING ECONOMICS', 'url': 'https://tradingeconomics.com/india/gdp-growth-annual', 'content': 'GDP Annual Growth Rate in India averaged 5.93 percent from 1951 until 2023, reaching an all time high of 21.60 percent in the second quarter of 2021 and a record low of -23.40 percent in the second quarter of 2020. India GDP Annual Growth Rate\\nThe Indian economy expanded 7.6% year-on-year in the third quarter of 2023, following a strong 7.8% growth in the previous period and beating forecasts of a 6.8% rise. The Gross Domestic Product (GDP) in India expanded 7.60 percent in the third quarter of 2023 over the same quarter of the previous year.\\n Markets\\nGDP\\nLabour\\nPrices\\nHealth\\nMoney\\nTrade\\nGovernment\\nBusiness\\nConsumer\\nHousing\\nTaxes\\nClimate The Gross Domestic Product (GDP) in India expanded 7.60 percent in the third quarter of 2023 over the same quarter of the previous year.', 'score': 0.98302, 'raw_content': None}, {'title': 'India Fiscal Year GDP Growth - TRADING ECONOMICS', 'url': 'https://tradingeconomics.com/india/full-year-gdp-growth', 'content': 'Markets\\nGDP\\nLabour\\nPrices\\nHealth\\nMoney\\nTrade\\nGovernment\\nBusiness\\nConsumer\\nHousing\\nTaxes\\nClimate India Fiscal Year GDP Growth\\nThe Indian economy expanded 7.3% in the 2023-24 fiscal year ending in March, higher than 7.2% in the previous year, according to preliminary government estimates, with state spending on infrastructure projects offering a boost. source: Ministry of Statistics and Programme Implementation (MOSPI)\\nFull Year GDP Growth in India increased to 7.30 percent in 2024 from 7.20 percent in 2023.\\n In the long-term, the India Fiscal Year GDP Growth is projected to trend around 7.00 percent in 2025 and 6.50 percent in 2026, according to our econometric models.\\n On the production front, faster increases were seen in manufacturing (6.5% vs 1.3%), construction (10.7% vs 10%), finance and real estate services (8.9% vs 7.1%) and mining (8.1% vs 4.6%), while lower growth rates were recorded for agriculture (1.8% vs 4%), utilities (8.3% vs 9%), trade, hotels, transport and communication (6.3% vs 14%).', 'score': 0.8844391, 'raw_content': None}, {'title': 'India GDP Growth Rate 1961-2024 - Macrotrends', 'url': 'https://www.macrotrends.net/global-metrics/countries/IND/india/gdp-growth-rate', 'content': 'India gdp growth rate for 2023 was 7.58%, a 0.6% increase from 2022. India gdp growth rate for 2022 was 6.99%, a 2.7% decline from 2021. India gdp growth rate for 2021 was 9.69%, a 15.47% increase from 2020. India gdp growth rate for 2020 was -5.78%, a 9.65% decline from 2019. Annual percentage growth rate of GDP at market prices based on', 'score': 0.7833262, 'raw_content': None}, {'title': 'GDP growth (annual %) - India | Data - World Bank Data', 'url': 'https://data.worldbank.org/indicator/NY.GDP.MKTP.KD.ZG?locations=IN', 'content': 'GDP growth (annual %) - India | Data Data GDP growth (annual %)India Data Catalog DataBank Data Programs International Debt Statistics Other Books and Reports For Developers GDP growth (annual %) - India ============================= Similar values Highest values Lowest values GDP (constant 2015 US$)  GDP (current US$)  GDP (constant LCU)  GDP: linked series (current LCU)  GDP, PPP (constant 2021 international $)  GDP (current LCU)  GDP, PPP (current international $)  GDP per capita growth (annual %)  Country Most Recent Value All Countries and Economies Country Most Recent Value This site uses cookies to optimize functionality and give you the best possible experience. If you continue to navigate this website beyond this page, cookies will be placed on your browser.', 'score': 0.5294763, 'raw_content': None}], 'response_time': 2.7})], 'sender': 'Researcher'} \n",
      "\n",
      "\n",
      "\n",
      "----\n",
      "\n",
      "\n",
      "\n",
      "STATE {'messages': [HumanMessage(content=\"Fetch India's GDP for past 5 years and plot a chart of it\", additional_kwargs={}, response_metadata={}), AIMessage(content=\"I will search for India's GDP for the past 5 years.\", additional_kwargs={'documents': None, 'citations': None, 'search_results': None, 'search_queries': None, 'is_search_required': None, 'generation_id': '428efb38-1ae1-45ed-b537-c2f56f99c2a6', 'tool_calls': [{'id': '51f22108d7a44ef4b9e311558ddb5b4e', 'function': {'name': 'tavily_search_results_json', 'arguments': '{\"query\": \"India\\'s GDP for the past 5 years\"}'}, 'type': 'function'}], 'token_count': {'input_tokens': 1058.0, 'output_tokens': 70.0}}, response_metadata={'documents': None, 'citations': None, 'search_results': None, 'search_queries': None, 'is_search_required': None, 'generation_id': '428efb38-1ae1-45ed-b537-c2f56f99c2a6', 'tool_calls': [{'id': '51f22108d7a44ef4b9e311558ddb5b4e', 'function': {'name': 'tavily_search_results_json', 'arguments': '{\"query\": \"India\\'s GDP for the past 5 years\"}'}, 'type': 'function'}], 'token_count': {'input_tokens': 1058.0, 'output_tokens': 70.0}}, name='Researcher', id='run-c8d3ca1e-e994-45c6-aa06-bf70c99c718b-0', tool_calls=[{'name': 'tavily_search_results_json', 'args': {'query': \"India's GDP for the past 5 years\"}, 'id': 'd8c72e778bf04a609a728a654039af50', 'type': 'tool_call'}], usage_metadata={'input_tokens': 1058, 'output_tokens': 70, 'total_tokens': 1128}), ToolMessage(content='[{\"url\": \"https://bse2nse.com/fundamental-technical-analysis/3128-indias-gdp-growth-rate-chart-last-5-years.html\", \"content\": \"India\\'s GDP Growth Rate Chart - Last 5 years India\\'s GDP Growth Rate Chart - Last 5 years Fundamental / Technical Analysis - India\\'s GDP Growth Rate Chart - Last 5 years in STRATEGIES & PLANS - Below\\'s India\\'s GDP growth rate chart for the last 5 years. India\\'s GDP Growth Rate Chart - Last 5 years India\\'s GDP Growth Rate Chart - Last 5 years Below\\'s India\\'s GDP growth rate chart for the last 5 years. india gdp growth rate for last 5 years indias gdp growth rate for the last 10 years what is indias gdp and growth rate for last 5 years\"}, {\"url\": \"https://tradingeconomics.com/india/gdp-growth-annual\", \"content\": \"GDP Annual Growth Rate in India averaged 5.93 percent from 1951 until 2023, reaching an all time high of 21.60 percent in the second quarter of 2021 and a record low of -23.40 percent in the second quarter of 2020. India GDP Annual Growth Rate\\\\nThe Indian economy expanded 7.6% year-on-year in the third quarter of 2023, following a strong 7.8% growth in the previous period and beating forecasts of a 6.8% rise. The Gross Domestic Product (GDP) in India expanded 7.60 percent in the third quarter of 2023 over the same quarter of the previous year.\\\\n Markets\\\\nGDP\\\\nLabour\\\\nPrices\\\\nHealth\\\\nMoney\\\\nTrade\\\\nGovernment\\\\nBusiness\\\\nConsumer\\\\nHousing\\\\nTaxes\\\\nClimate The Gross Domestic Product (GDP) in India expanded 7.60 percent in the third quarter of 2023 over the same quarter of the previous year.\"}, {\"url\": \"https://tradingeconomics.com/india/full-year-gdp-growth\", \"content\": \"Markets\\\\nGDP\\\\nLabour\\\\nPrices\\\\nHealth\\\\nMoney\\\\nTrade\\\\nGovernment\\\\nBusiness\\\\nConsumer\\\\nHousing\\\\nTaxes\\\\nClimate India Fiscal Year GDP Growth\\\\nThe Indian economy expanded 7.3% in the 2023-24 fiscal year ending in March, higher than 7.2% in the previous year, according to preliminary government estimates, with state spending on infrastructure projects offering a boost. source: Ministry of Statistics and Programme Implementation (MOSPI)\\\\nFull Year GDP Growth in India increased to 7.30 percent in 2024 from 7.20 percent in 2023.\\\\n In the long-term, the India Fiscal Year GDP Growth is projected to trend around 7.00 percent in 2025 and 6.50 percent in 2026, according to our econometric models.\\\\n On the production front, faster increases were seen in manufacturing (6.5% vs 1.3%), construction (10.7% vs 10%), finance and real estate services (8.9% vs 7.1%) and mining (8.1% vs 4.6%), while lower growth rates were recorded for agriculture (1.8% vs 4%), utilities (8.3% vs 9%), trade, hotels, transport and communication (6.3% vs 14%).\"}, {\"url\": \"https://www.macrotrends.net/global-metrics/countries/IND/india/gdp-growth-rate\", \"content\": \"India gdp growth rate for 2023 was 7.58%, a 0.6% increase from 2022. India gdp growth rate for 2022 was 6.99%, a 2.7% decline from 2021. India gdp growth rate for 2021 was 9.69%, a 15.47% increase from 2020. India gdp growth rate for 2020 was -5.78%, a 9.65% decline from 2019. Annual percentage growth rate of GDP at market prices based on\"}, {\"url\": \"https://data.worldbank.org/indicator/NY.GDP.MKTP.KD.ZG?locations=IN\", \"content\": \"GDP growth (annual %) - India | Data Data GDP growth (annual %)India Data Catalog DataBank Data Programs International Debt Statistics Other Books and Reports For Developers GDP growth (annual %) - India ============================= Similar values Highest values Lowest values GDP (constant 2015 US$)  GDP (current US$)  GDP (constant LCU)  GDP: linked series (current LCU)  GDP, PPP (constant 2021 international $)  GDP (current LCU)  GDP, PPP (current international $)  GDP per capita growth (annual %)  Country Most Recent Value All Countries and Economies Country Most Recent Value This site uses cookies to optimize functionality and give you the best possible experience. If you continue to navigate this website beyond this page, cookies will be placed on your browser.\"}]', name='tavily_search_results_json', tool_call_id='d8c72e778bf04a609a728a654039af50', artifact={'query': \"India's GDP for the past 5 years\", 'follow_up_questions': None, 'answer': None, 'images': [], 'results': [{'title': \"India's GDP Growth Rate Chart - Last 5 years - BSE2NSE\", 'url': 'https://bse2nse.com/fundamental-technical-analysis/3128-indias-gdp-growth-rate-chart-last-5-years.html', 'content': \"India's GDP Growth Rate Chart - Last 5 years India's GDP Growth Rate Chart - Last 5 years Fundamental / Technical Analysis - India's GDP Growth Rate Chart - Last 5 years in STRATEGIES & PLANS - Below's India's GDP growth rate chart for the last 5 years. India's GDP Growth Rate Chart - Last 5 years India's GDP Growth Rate Chart - Last 5 years Below's India's GDP growth rate chart for the last 5 years. india gdp growth rate for last 5 years indias gdp growth rate for the last 10 years what is indias gdp and growth rate for last 5 years\", 'score': 0.9950177, 'raw_content': None}, {'title': 'India GDP Annual Growth Rate - TRADING ECONOMICS', 'url': 'https://tradingeconomics.com/india/gdp-growth-annual', 'content': 'GDP Annual Growth Rate in India averaged 5.93 percent from 1951 until 2023, reaching an all time high of 21.60 percent in the second quarter of 2021 and a record low of -23.40 percent in the second quarter of 2020. India GDP Annual Growth Rate\\nThe Indian economy expanded 7.6% year-on-year in the third quarter of 2023, following a strong 7.8% growth in the previous period and beating forecasts of a 6.8% rise. The Gross Domestic Product (GDP) in India expanded 7.60 percent in the third quarter of 2023 over the same quarter of the previous year.\\n Markets\\nGDP\\nLabour\\nPrices\\nHealth\\nMoney\\nTrade\\nGovernment\\nBusiness\\nConsumer\\nHousing\\nTaxes\\nClimate The Gross Domestic Product (GDP) in India expanded 7.60 percent in the third quarter of 2023 over the same quarter of the previous year.', 'score': 0.98302, 'raw_content': None}, {'title': 'India Fiscal Year GDP Growth - TRADING ECONOMICS', 'url': 'https://tradingeconomics.com/india/full-year-gdp-growth', 'content': 'Markets\\nGDP\\nLabour\\nPrices\\nHealth\\nMoney\\nTrade\\nGovernment\\nBusiness\\nConsumer\\nHousing\\nTaxes\\nClimate India Fiscal Year GDP Growth\\nThe Indian economy expanded 7.3% in the 2023-24 fiscal year ending in March, higher than 7.2% in the previous year, according to preliminary government estimates, with state spending on infrastructure projects offering a boost. source: Ministry of Statistics and Programme Implementation (MOSPI)\\nFull Year GDP Growth in India increased to 7.30 percent in 2024 from 7.20 percent in 2023.\\n In the long-term, the India Fiscal Year GDP Growth is projected to trend around 7.00 percent in 2025 and 6.50 percent in 2026, according to our econometric models.\\n On the production front, faster increases were seen in manufacturing (6.5% vs 1.3%), construction (10.7% vs 10%), finance and real estate services (8.9% vs 7.1%) and mining (8.1% vs 4.6%), while lower growth rates were recorded for agriculture (1.8% vs 4%), utilities (8.3% vs 9%), trade, hotels, transport and communication (6.3% vs 14%).', 'score': 0.8844391, 'raw_content': None}, {'title': 'India GDP Growth Rate 1961-2024 - Macrotrends', 'url': 'https://www.macrotrends.net/global-metrics/countries/IND/india/gdp-growth-rate', 'content': 'India gdp growth rate for 2023 was 7.58%, a 0.6% increase from 2022. India gdp growth rate for 2022 was 6.99%, a 2.7% decline from 2021. India gdp growth rate for 2021 was 9.69%, a 15.47% increase from 2020. India gdp growth rate for 2020 was -5.78%, a 9.65% decline from 2019. Annual percentage growth rate of GDP at market prices based on', 'score': 0.7833262, 'raw_content': None}, {'title': 'GDP growth (annual %) - India | Data - World Bank Data', 'url': 'https://data.worldbank.org/indicator/NY.GDP.MKTP.KD.ZG?locations=IN', 'content': 'GDP growth (annual %) - India | Data Data GDP growth (annual %)India Data Catalog DataBank Data Programs International Debt Statistics Other Books and Reports For Developers GDP growth (annual %) - India ============================= Similar values Highest values Lowest values GDP (constant 2015 US$)  GDP (current US$)  GDP (constant LCU)  GDP: linked series (current LCU)  GDP, PPP (constant 2021 international $)  GDP (current LCU)  GDP, PPP (current international $)  GDP per capita growth (annual %)  Country Most Recent Value All Countries and Economies Country Most Recent Value This site uses cookies to optimize functionality and give you the best possible experience. If you continue to navigate this website beyond this page, cookies will be placed on your browser.', 'score': 0.5294763, 'raw_content': None}], 'response_time': 2.7}), AIMessage(content=\"Here is the data I found on India's GDP growth rate for the past 5 years:\\n\\n| Year | GDP Growth Rate |\\n|---|---|\\n| 2023 | 7.58% |\\n| 2022 | 6.99% |\\n| 2021 | 9.69% |\\n| 2020 | -5.78% |\\n| 2019 | 3.93% |\", additional_kwargs={'documents': [{'id': 'tavily_search_results_json:0:3:0', 'output': '[{\"url\": \"https://bse2nse.com/fundamental-technical-analysis/3128-indias-gdp-growth-rate-chart-last-5-years.html\", \"content\": \"India\\'s GDP Growth Rate Chart - Last 5 years India\\'s GDP Growth Rate Chart - Last 5 years Fundamental / Technical Analysis - India\\'s GDP Growth Rate Chart - Last 5 years in STRATEGIES & PLANS - Below\\'s India\\'s GDP growth rate chart for the last 5 years. India\\'s GDP Growth Rate Chart - Last 5 years India\\'s GDP Growth Rate Chart - Last 5 years Below\\'s India\\'s GDP growth rate chart for the last 5 years. india gdp growth rate for last 5 years indias gdp growth rate for the last 10 years what is indias gdp and growth rate for last 5 years\"}, {\"url\": \"https://tradingeconomics.com/india/gdp-growth-annual\", \"content\": \"GDP Annual Growth Rate in India averaged 5.93 percent from 1951 until 2023, reaching an all time high of 21.60 percent in the second quarter of 2021 and a record low of -23.40 percent in the second quarter of 2020. India GDP Annual Growth Rate\\\\nThe Indian economy expanded 7.6% year-on-year in the third quarter of 2023, following a strong 7.8% growth in the previous period and beating forecasts of a 6.8% rise. The Gross Domestic Product (GDP) in India expanded 7.60 percent in the third quarter of 2023 over the same quarter of the previous year.\\\\n Markets\\\\nGDP\\\\nLabour\\\\nPrices\\\\nHealth\\\\nMoney\\\\nTrade\\\\nGovernment\\\\nBusiness\\\\nConsumer\\\\nHousing\\\\nTaxes\\\\nClimate The Gross Domestic Product (GDP) in India expanded 7.60 percent in the third quarter of 2023 over the same quarter of the previous year.\"}, {\"url\": \"https://tradingeconomics.com/india/full-year-gdp-growth\", \"content\": \"Markets\\\\nGDP\\\\nLabour\\\\nPrices\\\\nHealth\\\\nMoney\\\\nTrade\\\\nGovernment\\\\nBusiness\\\\nConsumer\\\\nHousing\\\\nTaxes\\\\nClimate India Fiscal Year GDP Growth\\\\nThe Indian economy expanded 7.3% in the 2023-24 fiscal year ending in March, higher than 7.2% in the previous year, according to preliminary government estimates, with state spending on infrastructure projects offering a boost. source: Ministry of Statistics and Programme Implementation (MOSPI)\\\\nFull Year GDP Growth in India increased to 7.30 percent in 2024 from 7.20 percent in 2023.\\\\n In the long-term, the India Fiscal Year GDP Growth is projected to trend around 7.00 percent in 2025 and 6.50 percent in 2026, according to our econometric models.\\\\n On the production front, faster increases were seen in manufacturing (6.5% vs 1.3%), construction (10.7% vs 10%), finance and real estate services (8.9% vs 7.1%) and mining (8.1% vs 4.6%), while lower growth rates were recorded for agriculture (1.8% vs 4%), utilities (8.3% vs 9%), trade, hotels, transport and communication (6.3% vs 14%).\"}, {\"url\": \"https://www.macrotrends.net/global-metrics/countries/IND/india/gdp-growth-rate\", \"content\": \"India gdp growth rate for 2023 was 7.58%, a 0.6% increase from 2022. India gdp growth rate for 2022 was 6.99%, a 2.7% decline from 2021. India gdp growth rate for 2021 was 9.69%, a 15.47% increase from 2020. India gdp growth rate for 2020 was -5.78%, a 9.65% decline from 2019. Annual percentage growth rate of GDP at market prices based on\"}, {\"url\": \"https://data.worldbank.org/indicator/NY.GDP.MKTP.KD.ZG?locations=IN\", \"content\": \"GDP growth (annual %) - India | Data Data GDP growth (annual %)India Data Catalog DataBank Data Programs International Debt Statistics Other Books and Reports For Developers GDP growth (annual %) - India ============================= Similar values Highest values Lowest values GDP (constant 2015 US$)  GDP (current US$)  GDP (constant LCU)  GDP: linked series (current LCU)  GDP, PPP (constant 2021 international $)  GDP (current LCU)  GDP, PPP (current international $)  GDP per capita growth (annual %)  Country Most Recent Value All Countries and Economies Country Most Recent Value This site uses cookies to optimize functionality and give you the best possible experience. If you continue to navigate this website beyond this page, cookies will be placed on your browser.\"}]', 'tool_name': 'tavily_search_results_json'}], 'citations': [{'start': 114, 'end': 118, 'text': '2023', 'document_ids': ['tavily_search_results_json:0:3:0']}, {'start': 121, 'end': 126, 'text': '7.58%', 'document_ids': ['tavily_search_results_json:0:3:0']}, {'start': 131, 'end': 135, 'text': '2022', 'document_ids': ['tavily_search_results_json:0:3:0']}, {'start': 138, 'end': 143, 'text': '6.99%', 'document_ids': ['tavily_search_results_json:0:3:0']}, {'start': 148, 'end': 152, 'text': '2021', 'document_ids': ['tavily_search_results_json:0:3:0']}, {'start': 155, 'end': 160, 'text': '9.69%', 'document_ids': ['tavily_search_results_json:0:3:0']}, {'start': 165, 'end': 169, 'text': '2020', 'document_ids': ['tavily_search_results_json:0:3:0']}, {'start': 172, 'end': 178, 'text': '-5.78%', 'document_ids': ['tavily_search_results_json:0:3:0']}, {'start': 183, 'end': 187, 'text': '2019', 'document_ids': ['tavily_search_results_json:0:3:0']}, {'start': 190, 'end': 195, 'text': '3.93%', 'document_ids': ['tavily_search_results_json:0:3:0']}], 'search_results': None, 'search_queries': None, 'is_search_required': None, 'generation_id': '90f33c54-8d40-4996-b045-0f768345af84', 'token_count': {'input_tokens': 2320.0, 'output_tokens': 336.0}}, response_metadata={'documents': [{'id': 'tavily_search_results_json:0:3:0', 'output': '[{\"url\": \"https://bse2nse.com/fundamental-technical-analysis/3128-indias-gdp-growth-rate-chart-last-5-years.html\", \"content\": \"India\\'s GDP Growth Rate Chart - Last 5 years India\\'s GDP Growth Rate Chart - Last 5 years Fundamental / Technical Analysis - India\\'s GDP Growth Rate Chart - Last 5 years in STRATEGIES & PLANS - Below\\'s India\\'s GDP growth rate chart for the last 5 years. India\\'s GDP Growth Rate Chart - Last 5 years India\\'s GDP Growth Rate Chart - Last 5 years Below\\'s India\\'s GDP growth rate chart for the last 5 years. india gdp growth rate for last 5 years indias gdp growth rate for the last 10 years what is indias gdp and growth rate for last 5 years\"}, {\"url\": \"https://tradingeconomics.com/india/gdp-growth-annual\", \"content\": \"GDP Annual Growth Rate in India averaged 5.93 percent from 1951 until 2023, reaching an all time high of 21.60 percent in the second quarter of 2021 and a record low of -23.40 percent in the second quarter of 2020. India GDP Annual Growth Rate\\\\nThe Indian economy expanded 7.6% year-on-year in the third quarter of 2023, following a strong 7.8% growth in the previous period and beating forecasts of a 6.8% rise. The Gross Domestic Product (GDP) in India expanded 7.60 percent in the third quarter of 2023 over the same quarter of the previous year.\\\\n Markets\\\\nGDP\\\\nLabour\\\\nPrices\\\\nHealth\\\\nMoney\\\\nTrade\\\\nGovernment\\\\nBusiness\\\\nConsumer\\\\nHousing\\\\nTaxes\\\\nClimate The Gross Domestic Product (GDP) in India expanded 7.60 percent in the third quarter of 2023 over the same quarter of the previous year.\"}, {\"url\": \"https://tradingeconomics.com/india/full-year-gdp-growth\", \"content\": \"Markets\\\\nGDP\\\\nLabour\\\\nPrices\\\\nHealth\\\\nMoney\\\\nTrade\\\\nGovernment\\\\nBusiness\\\\nConsumer\\\\nHousing\\\\nTaxes\\\\nClimate India Fiscal Year GDP Growth\\\\nThe Indian economy expanded 7.3% in the 2023-24 fiscal year ending in March, higher than 7.2% in the previous year, according to preliminary government estimates, with state spending on infrastructure projects offering a boost. source: Ministry of Statistics and Programme Implementation (MOSPI)\\\\nFull Year GDP Growth in India increased to 7.30 percent in 2024 from 7.20 percent in 2023.\\\\n In the long-term, the India Fiscal Year GDP Growth is projected to trend around 7.00 percent in 2025 and 6.50 percent in 2026, according to our econometric models.\\\\n On the production front, faster increases were seen in manufacturing (6.5% vs 1.3%), construction (10.7% vs 10%), finance and real estate services (8.9% vs 7.1%) and mining (8.1% vs 4.6%), while lower growth rates were recorded for agriculture (1.8% vs 4%), utilities (8.3% vs 9%), trade, hotels, transport and communication (6.3% vs 14%).\"}, {\"url\": \"https://www.macrotrends.net/global-metrics/countries/IND/india/gdp-growth-rate\", \"content\": \"India gdp growth rate for 2023 was 7.58%, a 0.6% increase from 2022. India gdp growth rate for 2022 was 6.99%, a 2.7% decline from 2021. India gdp growth rate for 2021 was 9.69%, a 15.47% increase from 2020. India gdp growth rate for 2020 was -5.78%, a 9.65% decline from 2019. Annual percentage growth rate of GDP at market prices based on\"}, {\"url\": \"https://data.worldbank.org/indicator/NY.GDP.MKTP.KD.ZG?locations=IN\", \"content\": \"GDP growth (annual %) - India | Data Data GDP growth (annual %)India Data Catalog DataBank Data Programs International Debt Statistics Other Books and Reports For Developers GDP growth (annual %) - India ============================= Similar values Highest values Lowest values GDP (constant 2015 US$)  GDP (current US$)  GDP (constant LCU)  GDP: linked series (current LCU)  GDP, PPP (constant 2021 international $)  GDP (current LCU)  GDP, PPP (current international $)  GDP per capita growth (annual %)  Country Most Recent Value All Countries and Economies Country Most Recent Value This site uses cookies to optimize functionality and give you the best possible experience. If you continue to navigate this website beyond this page, cookies will be placed on your browser.\"}]', 'tool_name': 'tavily_search_results_json'}], 'citations': [{'start': 114, 'end': 118, 'text': '2023', 'document_ids': ['tavily_search_results_json:0:3:0']}, {'start': 121, 'end': 126, 'text': '7.58%', 'document_ids': ['tavily_search_results_json:0:3:0']}, {'start': 131, 'end': 135, 'text': '2022', 'document_ids': ['tavily_search_results_json:0:3:0']}, {'start': 138, 'end': 143, 'text': '6.99%', 'document_ids': ['tavily_search_results_json:0:3:0']}, {'start': 148, 'end': 152, 'text': '2021', 'document_ids': ['tavily_search_results_json:0:3:0']}, {'start': 155, 'end': 160, 'text': '9.69%', 'document_ids': ['tavily_search_results_json:0:3:0']}, {'start': 165, 'end': 169, 'text': '2020', 'document_ids': ['tavily_search_results_json:0:3:0']}, {'start': 172, 'end': 178, 'text': '-5.78%', 'document_ids': ['tavily_search_results_json:0:3:0']}, {'start': 183, 'end': 187, 'text': '2019', 'document_ids': ['tavily_search_results_json:0:3:0']}, {'start': 190, 'end': 195, 'text': '3.93%', 'document_ids': ['tavily_search_results_json:0:3:0']}], 'search_results': None, 'search_queries': None, 'is_search_required': None, 'generation_id': '90f33c54-8d40-4996-b045-0f768345af84', 'token_count': {'input_tokens': 2320.0, 'output_tokens': 336.0}}, name='Researcher', id='run-df857a12-491f-48d1-ab23-c08b5cf88255-0', usage_metadata={'input_tokens': 2320, 'output_tokens': 336, 'total_tokens': 2656})], 'sender': 'Researcher'} \n",
      "\n",
      "\n",
      "\n"
     ]
    },
    {
     "ename": "UnboundLocalError",
     "evalue": "cannot access local variable 'result' where it is not associated with a value",
     "output_type": "error",
     "traceback": [
      "\u001b[1;31m---------------------------------------------------------------------------\u001b[0m",
      "\u001b[1;31mUnboundLocalError\u001b[0m                         Traceback (most recent call last)",
      "Cell \u001b[1;32mIn[10], line 12\u001b[0m\n\u001b[0;32m      1\u001b[0m events \u001b[38;5;241m=\u001b[39m graph\u001b[38;5;241m.\u001b[39mstream(\n\u001b[0;32m      2\u001b[0m     {\n\u001b[0;32m      3\u001b[0m         \u001b[38;5;124m\"\u001b[39m\u001b[38;5;124mmessages\u001b[39m\u001b[38;5;124m\"\u001b[39m: [\n\u001b[1;32m   (...)\u001b[0m\n\u001b[0;32m     10\u001b[0m     {\u001b[38;5;124m\"\u001b[39m\u001b[38;5;124mrecursion_limit\u001b[39m\u001b[38;5;124m\"\u001b[39m: \u001b[38;5;241m150\u001b[39m},\n\u001b[0;32m     11\u001b[0m )\n\u001b[1;32m---> 12\u001b[0m \u001b[38;5;28;43;01mfor\u001b[39;49;00m\u001b[43m \u001b[49m\u001b[43ms\u001b[49m\u001b[43m \u001b[49m\u001b[38;5;129;43;01min\u001b[39;49;00m\u001b[43m \u001b[49m\u001b[43mevents\u001b[49m\u001b[43m:\u001b[49m\n\u001b[0;32m     13\u001b[0m \u001b[43m    \u001b[49m\u001b[38;5;66;43;03m#print(s)\u001b[39;49;00m\n\u001b[0;32m     14\u001b[0m \u001b[43m    \u001b[49m\u001b[38;5;28;43mprint\u001b[39;49m\u001b[43m(\u001b[49m\u001b[38;5;124;43m\"\u001b[39;49m\u001b[38;5;124;43m----\u001b[39;49m\u001b[38;5;124;43m\"\u001b[39;49m\u001b[43m)\u001b[49m\n",
      "File \u001b[1;32m~\\Documents\\Repos\\AI-Agent-Trials\\venv\\Lib\\site-packages\\langgraph\\pregel\\__init__.py:1646\u001b[0m, in \u001b[0;36mPregel.stream\u001b[1;34m(self, input, config, stream_mode, output_keys, interrupt_before, interrupt_after, debug, subgraphs)\u001b[0m\n\u001b[0;32m   1640\u001b[0m     \u001b[38;5;66;03m# Similarly to Bulk Synchronous Parallel / Pregel model\u001b[39;00m\n\u001b[0;32m   1641\u001b[0m     \u001b[38;5;66;03m# computation proceeds in steps, while there are channel updates\u001b[39;00m\n\u001b[0;32m   1642\u001b[0m     \u001b[38;5;66;03m# channel updates from step N are only visible in step N+1\u001b[39;00m\n\u001b[0;32m   1643\u001b[0m     \u001b[38;5;66;03m# channels are guaranteed to be immutable for the duration of the step,\u001b[39;00m\n\u001b[0;32m   1644\u001b[0m     \u001b[38;5;66;03m# with channel updates applied only at the transition between steps\u001b[39;00m\n\u001b[0;32m   1645\u001b[0m     \u001b[38;5;28;01mwhile\u001b[39;00m loop\u001b[38;5;241m.\u001b[39mtick(input_keys\u001b[38;5;241m=\u001b[39m\u001b[38;5;28mself\u001b[39m\u001b[38;5;241m.\u001b[39minput_channels):\n\u001b[1;32m-> 1646\u001b[0m \u001b[43m        \u001b[49m\u001b[38;5;28;43;01mfor\u001b[39;49;00m\u001b[43m \u001b[49m\u001b[43m_\u001b[49m\u001b[43m \u001b[49m\u001b[38;5;129;43;01min\u001b[39;49;00m\u001b[43m \u001b[49m\u001b[43mrunner\u001b[49m\u001b[38;5;241;43m.\u001b[39;49m\u001b[43mtick\u001b[49m\u001b[43m(\u001b[49m\n\u001b[0;32m   1647\u001b[0m \u001b[43m            \u001b[49m\u001b[43mloop\u001b[49m\u001b[38;5;241;43m.\u001b[39;49m\u001b[43mtasks\u001b[49m\u001b[38;5;241;43m.\u001b[39;49m\u001b[43mvalues\u001b[49m\u001b[43m(\u001b[49m\u001b[43m)\u001b[49m\u001b[43m,\u001b[49m\n\u001b[0;32m   1648\u001b[0m \u001b[43m            \u001b[49m\u001b[43mtimeout\u001b[49m\u001b[38;5;241;43m=\u001b[39;49m\u001b[38;5;28;43mself\u001b[39;49m\u001b[38;5;241;43m.\u001b[39;49m\u001b[43mstep_timeout\u001b[49m\u001b[43m,\u001b[49m\n\u001b[0;32m   1649\u001b[0m \u001b[43m            \u001b[49m\u001b[43mretry_policy\u001b[49m\u001b[38;5;241;43m=\u001b[39;49m\u001b[38;5;28;43mself\u001b[39;49m\u001b[38;5;241;43m.\u001b[39;49m\u001b[43mretry_policy\u001b[49m\u001b[43m,\u001b[49m\n\u001b[0;32m   1650\u001b[0m \u001b[43m            \u001b[49m\u001b[43mget_waiter\u001b[49m\u001b[38;5;241;43m=\u001b[39;49m\u001b[43mget_waiter\u001b[49m\u001b[43m,\u001b[49m\n\u001b[0;32m   1651\u001b[0m \u001b[43m        \u001b[49m\u001b[43m)\u001b[49m\u001b[43m:\u001b[49m\n\u001b[0;32m   1652\u001b[0m \u001b[43m            \u001b[49m\u001b[38;5;66;43;03m# emit output\u001b[39;49;00m\n\u001b[0;32m   1653\u001b[0m \u001b[43m            \u001b[49m\u001b[38;5;28;43;01myield from\u001b[39;49;00m\u001b[43m \u001b[49m\u001b[43moutput\u001b[49m\u001b[43m(\u001b[49m\u001b[43m)\u001b[49m\n\u001b[0;32m   1654\u001b[0m \u001b[38;5;66;03m# emit output\u001b[39;00m\n",
      "File \u001b[1;32m~\\Documents\\Repos\\AI-Agent-Trials\\venv\\Lib\\site-packages\\langgraph\\pregel\\runner.py:104\u001b[0m, in \u001b[0;36mPregelRunner.tick\u001b[1;34m(self, tasks, reraise, timeout, retry_policy, get_waiter)\u001b[0m\n\u001b[0;32m    102\u001b[0m t \u001b[38;5;241m=\u001b[39m tasks[\u001b[38;5;241m0\u001b[39m]\n\u001b[0;32m    103\u001b[0m \u001b[38;5;28;01mtry\u001b[39;00m:\n\u001b[1;32m--> 104\u001b[0m     \u001b[43mrun_with_retry\u001b[49m\u001b[43m(\u001b[49m\u001b[43mt\u001b[49m\u001b[43m,\u001b[49m\u001b[43m \u001b[49m\u001b[43mretry_policy\u001b[49m\u001b[43m,\u001b[49m\u001b[43m \u001b[49m\u001b[43mwriter\u001b[49m\u001b[38;5;241;43m=\u001b[39;49m\u001b[43mwriter\u001b[49m\u001b[43m)\u001b[49m\n\u001b[0;32m    105\u001b[0m     \u001b[38;5;28mself\u001b[39m\u001b[38;5;241m.\u001b[39mcommit(t, \u001b[38;5;28;01mNone\u001b[39;00m)\n\u001b[0;32m    106\u001b[0m \u001b[38;5;28;01mexcept\u001b[39;00m \u001b[38;5;167;01mException\u001b[39;00m \u001b[38;5;28;01mas\u001b[39;00m exc:\n",
      "File \u001b[1;32m~\\Documents\\Repos\\AI-Agent-Trials\\venv\\Lib\\site-packages\\langgraph\\pregel\\retry.py:40\u001b[0m, in \u001b[0;36mrun_with_retry\u001b[1;34m(task, retry_policy, writer)\u001b[0m\n\u001b[0;32m     38\u001b[0m task\u001b[38;5;241m.\u001b[39mwrites\u001b[38;5;241m.\u001b[39mclear()\n\u001b[0;32m     39\u001b[0m \u001b[38;5;66;03m# run the task\u001b[39;00m\n\u001b[1;32m---> 40\u001b[0m \u001b[43mtask\u001b[49m\u001b[38;5;241;43m.\u001b[39;49m\u001b[43mproc\u001b[49m\u001b[38;5;241;43m.\u001b[39;49m\u001b[43minvoke\u001b[49m\u001b[43m(\u001b[49m\u001b[43mtask\u001b[49m\u001b[38;5;241;43m.\u001b[39;49m\u001b[43minput\u001b[49m\u001b[43m,\u001b[49m\u001b[43m \u001b[49m\u001b[43mconfig\u001b[49m\u001b[43m)\u001b[49m\n\u001b[0;32m     41\u001b[0m \u001b[38;5;66;03m# if successful, end\u001b[39;00m\n\u001b[0;32m     42\u001b[0m \u001b[38;5;28;01mbreak\u001b[39;00m\n",
      "File \u001b[1;32m~\\Documents\\Repos\\AI-Agent-Trials\\venv\\Lib\\site-packages\\langgraph\\utils\\runnable.py:410\u001b[0m, in \u001b[0;36mRunnableSeq.invoke\u001b[1;34m(self, input, config, **kwargs)\u001b[0m\n\u001b[0;32m    408\u001b[0m context\u001b[38;5;241m.\u001b[39mrun(_set_config_context, config)\n\u001b[0;32m    409\u001b[0m \u001b[38;5;28;01mif\u001b[39;00m i \u001b[38;5;241m==\u001b[39m \u001b[38;5;241m0\u001b[39m:\n\u001b[1;32m--> 410\u001b[0m     \u001b[38;5;28minput\u001b[39m \u001b[38;5;241m=\u001b[39m \u001b[43mcontext\u001b[49m\u001b[38;5;241;43m.\u001b[39;49m\u001b[43mrun\u001b[49m\u001b[43m(\u001b[49m\u001b[43mstep\u001b[49m\u001b[38;5;241;43m.\u001b[39;49m\u001b[43minvoke\u001b[49m\u001b[43m,\u001b[49m\u001b[43m \u001b[49m\u001b[38;5;28;43minput\u001b[39;49m\u001b[43m,\u001b[49m\u001b[43m \u001b[49m\u001b[43mconfig\u001b[49m\u001b[43m,\u001b[49m\u001b[43m \u001b[49m\u001b[38;5;241;43m*\u001b[39;49m\u001b[38;5;241;43m*\u001b[39;49m\u001b[43mkwargs\u001b[49m\u001b[43m)\u001b[49m\n\u001b[0;32m    411\u001b[0m \u001b[38;5;28;01melse\u001b[39;00m:\n\u001b[0;32m    412\u001b[0m     \u001b[38;5;28minput\u001b[39m \u001b[38;5;241m=\u001b[39m context\u001b[38;5;241m.\u001b[39mrun(step\u001b[38;5;241m.\u001b[39minvoke, \u001b[38;5;28minput\u001b[39m, config)\n",
      "File \u001b[1;32m~\\Documents\\Repos\\AI-Agent-Trials\\venv\\Lib\\site-packages\\langgraph\\utils\\runnable.py:184\u001b[0m, in \u001b[0;36mRunnableCallable.invoke\u001b[1;34m(self, input, config, **kwargs)\u001b[0m\n\u001b[0;32m    182\u001b[0m \u001b[38;5;28;01melse\u001b[39;00m:\n\u001b[0;32m    183\u001b[0m     context\u001b[38;5;241m.\u001b[39mrun(_set_config_context, config)\n\u001b[1;32m--> 184\u001b[0m     ret \u001b[38;5;241m=\u001b[39m \u001b[43mcontext\u001b[49m\u001b[38;5;241;43m.\u001b[39;49m\u001b[43mrun\u001b[49m\u001b[43m(\u001b[49m\u001b[38;5;28;43mself\u001b[39;49m\u001b[38;5;241;43m.\u001b[39;49m\u001b[43mfunc\u001b[49m\u001b[43m,\u001b[49m\u001b[43m \u001b[49m\u001b[38;5;28;43minput\u001b[39;49m\u001b[43m,\u001b[49m\u001b[43m \u001b[49m\u001b[38;5;241;43m*\u001b[39;49m\u001b[38;5;241;43m*\u001b[39;49m\u001b[43mkwargs\u001b[49m\u001b[43m)\u001b[49m\n\u001b[0;32m    185\u001b[0m \u001b[38;5;28;01mif\u001b[39;00m \u001b[38;5;28misinstance\u001b[39m(ret, Runnable) \u001b[38;5;129;01mand\u001b[39;00m \u001b[38;5;28mself\u001b[39m\u001b[38;5;241m.\u001b[39mrecurse:\n\u001b[0;32m    186\u001b[0m     \u001b[38;5;28;01mreturn\u001b[39;00m ret\u001b[38;5;241m.\u001b[39minvoke(\u001b[38;5;28minput\u001b[39m, config)\n",
      "Cell \u001b[1;32mIn[5], line 16\u001b[0m, in \u001b[0;36magent_node\u001b[1;34m(state, agent, name)\u001b[0m\n\u001b[0;32m     14\u001b[0m     \u001b[38;5;241m.\u001b[39m\u001b[38;5;241m.\u001b[39m\u001b[38;5;241m.\u001b[39m\n\u001b[0;32m     15\u001b[0m \u001b[38;5;66;03m# We convert the agent output into a format that is suitable to append to the global state\u001b[39;00m\n\u001b[1;32m---> 16\u001b[0m \u001b[38;5;28;01mif\u001b[39;00m \u001b[38;5;28misinstance\u001b[39m(\u001b[43mresult\u001b[49m, ToolMessage):\n\u001b[0;32m     17\u001b[0m     \u001b[38;5;28;01mpass\u001b[39;00m\n\u001b[0;32m     18\u001b[0m \u001b[38;5;28;01melse\u001b[39;00m:\n",
      "\u001b[1;31mUnboundLocalError\u001b[0m: cannot access local variable 'result' where it is not associated with a value"
     ]
    }
   ],
   "source": [
    "events = graph.stream(\n",
    "    {\n",
    "        \"messages\": [\n",
    "            HumanMessage(\n",
    "                content=\"Fetch India's GDP for past 5 years and plot a chart of it\"\n",
    "            )\n",
    "        ],\n",
    "    },\n",
    "    # Maximum number of steps to take in the graph\n",
    "    {\"recursion_limit\": 150},\n",
    ")\n",
    "for s in events:\n",
    "    #print(s)\n",
    "    print(\"----\")"
   ]
  },
  {
   "cell_type": "code",
   "execution_count": 11,
   "id": "46bdde46-2816-4e1c-8720-73c205551df1",
   "metadata": {},
   "outputs": [],
   "source": [
    "obj = {'messages': [HumanMessage(content=\"Fetch India's GDP for past 5 years and plot a chart of it\", additional_kwargs={}, response_metadata={}), AIMessage(content=\"I will search for India's GDP for the past 5 years.\", additional_kwargs={'documents': None, 'citations': None, 'search_results': None, 'search_queries': None, 'is_search_required': None, 'generation_id': '428efb38-1ae1-45ed-b537-c2f56f99c2a6', 'tool_calls': [{'id': '51f22108d7a44ef4b9e311558ddb5b4e', 'function': {'name': 'tavily_search_results_json', 'arguments': '{\"query\": \"India\\'s GDP for the past 5 years\"}'}, 'type': 'function'}], 'token_count': {'input_tokens': 1058.0, 'output_tokens': 70.0}}, response_metadata={'documents': None, 'citations': None, 'search_results': None, 'search_queries': None, 'is_search_required': None, 'generation_id': '428efb38-1ae1-45ed-b537-c2f56f99c2a6', 'tool_calls': [{'id': '51f22108d7a44ef4b9e311558ddb5b4e', 'function': {'name': 'tavily_search_results_json', 'arguments': '{\"query\": \"India\\'s GDP for the past 5 years\"}'}, 'type': 'function'}], 'token_count': {'input_tokens': 1058.0, 'output_tokens': 70.0}}, name='Researcher', id='run-c8d3ca1e-e994-45c6-aa06-bf70c99c718b-0', tool_calls=[{'name': 'tavily_search_results_json', 'args': {'query': \"India's GDP for the past 5 years\"}, 'id': 'd8c72e778bf04a609a728a654039af50', 'type': 'tool_call'}], usage_metadata={'input_tokens': 1058, 'output_tokens': 70, 'total_tokens': 1128}), ToolMessage(content='[{\"url\": \"https://bse2nse.com/fundamental-technical-analysis/3128-indias-gdp-growth-rate-chart-last-5-years.html\", \"content\": \"India\\'s GDP Growth Rate Chart - Last 5 years India\\'s GDP Growth Rate Chart - Last 5 years Fundamental / Technical Analysis - India\\'s GDP Growth Rate Chart - Last 5 years in STRATEGIES & PLANS - Below\\'s India\\'s GDP growth rate chart for the last 5 years. India\\'s GDP Growth Rate Chart - Last 5 years India\\'s GDP Growth Rate Chart - Last 5 years Below\\'s India\\'s GDP growth rate chart for the last 5 years. india gdp growth rate for last 5 years indias gdp growth rate for the last 10 years what is indias gdp and growth rate for last 5 years\"}, {\"url\": \"https://tradingeconomics.com/india/gdp-growth-annual\", \"content\": \"GDP Annual Growth Rate in India averaged 5.93 percent from 1951 until 2023, reaching an all time high of 21.60 percent in the second quarter of 2021 and a record low of -23.40 percent in the second quarter of 2020. India GDP Annual Growth Rate\\\\nThe Indian economy expanded 7.6% year-on-year in the third quarter of 2023, following a strong 7.8% growth in the previous period and beating forecasts of a 6.8% rise. The Gross Domestic Product (GDP) in India expanded 7.60 percent in the third quarter of 2023 over the same quarter of the previous year.\\\\n Markets\\\\nGDP\\\\nLabour\\\\nPrices\\\\nHealth\\\\nMoney\\\\nTrade\\\\nGovernment\\\\nBusiness\\\\nConsumer\\\\nHousing\\\\nTaxes\\\\nClimate The Gross Domestic Product (GDP) in India expanded 7.60 percent in the third quarter of 2023 over the same quarter of the previous year.\"}, {\"url\": \"https://tradingeconomics.com/india/full-year-gdp-growth\", \"content\": \"Markets\\\\nGDP\\\\nLabour\\\\nPrices\\\\nHealth\\\\nMoney\\\\nTrade\\\\nGovernment\\\\nBusiness\\\\nConsumer\\\\nHousing\\\\nTaxes\\\\nClimate India Fiscal Year GDP Growth\\\\nThe Indian economy expanded 7.3% in the 2023-24 fiscal year ending in March, higher than 7.2% in the previous year, according to preliminary government estimates, with state spending on infrastructure projects offering a boost. source: Ministry of Statistics and Programme Implementation (MOSPI)\\\\nFull Year GDP Growth in India increased to 7.30 percent in 2024 from 7.20 percent in 2023.\\\\n In the long-term, the India Fiscal Year GDP Growth is projected to trend around 7.00 percent in 2025 and 6.50 percent in 2026, according to our econometric models.\\\\n On the production front, faster increases were seen in manufacturing (6.5% vs 1.3%), construction (10.7% vs 10%), finance and real estate services (8.9% vs 7.1%) and mining (8.1% vs 4.6%), while lower growth rates were recorded for agriculture (1.8% vs 4%), utilities (8.3% vs 9%), trade, hotels, transport and communication (6.3% vs 14%).\"}, {\"url\": \"https://www.macrotrends.net/global-metrics/countries/IND/india/gdp-growth-rate\", \"content\": \"India gdp growth rate for 2023 was 7.58%, a 0.6% increase from 2022. India gdp growth rate for 2022 was 6.99%, a 2.7% decline from 2021. India gdp growth rate for 2021 was 9.69%, a 15.47% increase from 2020. India gdp growth rate for 2020 was -5.78%, a 9.65% decline from 2019. Annual percentage growth rate of GDP at market prices based on\"}, {\"url\": \"https://data.worldbank.org/indicator/NY.GDP.MKTP.KD.ZG?locations=IN\", \"content\": \"GDP growth (annual %) - India | Data Data GDP growth (annual %)India Data Catalog DataBank Data Programs International Debt Statistics Other Books and Reports For Developers GDP growth (annual %) - India ============================= Similar values Highest values Lowest values GDP (constant 2015 US$)  GDP (current US$)  GDP (constant LCU)  GDP: linked series (current LCU)  GDP, PPP (constant 2021 international $)  GDP (current LCU)  GDP, PPP (current international $)  GDP per capita growth (annual %)  Country Most Recent Value All Countries and Economies Country Most Recent Value This site uses cookies to optimize functionality and give you the best possible experience. If you continue to navigate this website beyond this page, cookies will be placed on your browser.\"}]', name='tavily_search_results_json', tool_call_id='d8c72e778bf04a609a728a654039af50', artifact={'query': \"India's GDP for the past 5 years\", 'follow_up_questions': None, 'answer': None, 'images': [], 'results': [{'title': \"India's GDP Growth Rate Chart - Last 5 years - BSE2NSE\", 'url': 'https://bse2nse.com/fundamental-technical-analysis/3128-indias-gdp-growth-rate-chart-last-5-years.html', 'content': \"India's GDP Growth Rate Chart - Last 5 years India's GDP Growth Rate Chart - Last 5 years Fundamental / Technical Analysis - India's GDP Growth Rate Chart - Last 5 years in STRATEGIES & PLANS - Below's India's GDP growth rate chart for the last 5 years. India's GDP Growth Rate Chart - Last 5 years India's GDP Growth Rate Chart - Last 5 years Below's India's GDP growth rate chart for the last 5 years. india gdp growth rate for last 5 years indias gdp growth rate for the last 10 years what is indias gdp and growth rate for last 5 years\", 'score': 0.9950177, 'raw_content': None}, {'title': 'India GDP Annual Growth Rate - TRADING ECONOMICS', 'url': 'https://tradingeconomics.com/india/gdp-growth-annual', 'content': 'GDP Annual Growth Rate in India averaged 5.93 percent from 1951 until 2023, reaching an all time high of 21.60 percent in the second quarter of 2021 and a record low of -23.40 percent in the second quarter of 2020. India GDP Annual Growth Rate\\nThe Indian economy expanded 7.6% year-on-year in the third quarter of 2023, following a strong 7.8% growth in the previous period and beating forecasts of a 6.8% rise. The Gross Domestic Product (GDP) in India expanded 7.60 percent in the third quarter of 2023 over the same quarter of the previous year.\\n Markets\\nGDP\\nLabour\\nPrices\\nHealth\\nMoney\\nTrade\\nGovernment\\nBusiness\\nConsumer\\nHousing\\nTaxes\\nClimate The Gross Domestic Product (GDP) in India expanded 7.60 percent in the third quarter of 2023 over the same quarter of the previous year.', 'score': 0.98302, 'raw_content': None}, {'title': 'India Fiscal Year GDP Growth - TRADING ECONOMICS', 'url': 'https://tradingeconomics.com/india/full-year-gdp-growth', 'content': 'Markets\\nGDP\\nLabour\\nPrices\\nHealth\\nMoney\\nTrade\\nGovernment\\nBusiness\\nConsumer\\nHousing\\nTaxes\\nClimate India Fiscal Year GDP Growth\\nThe Indian economy expanded 7.3% in the 2023-24 fiscal year ending in March, higher than 7.2% in the previous year, according to preliminary government estimates, with state spending on infrastructure projects offering a boost. source: Ministry of Statistics and Programme Implementation (MOSPI)\\nFull Year GDP Growth in India increased to 7.30 percent in 2024 from 7.20 percent in 2023.\\n In the long-term, the India Fiscal Year GDP Growth is projected to trend around 7.00 percent in 2025 and 6.50 percent in 2026, according to our econometric models.\\n On the production front, faster increases were seen in manufacturing (6.5% vs 1.3%), construction (10.7% vs 10%), finance and real estate services (8.9% vs 7.1%) and mining (8.1% vs 4.6%), while lower growth rates were recorded for agriculture (1.8% vs 4%), utilities (8.3% vs 9%), trade, hotels, transport and communication (6.3% vs 14%).', 'score': 0.8844391, 'raw_content': None}, {'title': 'India GDP Growth Rate 1961-2024 - Macrotrends', 'url': 'https://www.macrotrends.net/global-metrics/countries/IND/india/gdp-growth-rate', 'content': 'India gdp growth rate for 2023 was 7.58%, a 0.6% increase from 2022. India gdp growth rate for 2022 was 6.99%, a 2.7% decline from 2021. India gdp growth rate for 2021 was 9.69%, a 15.47% increase from 2020. India gdp growth rate for 2020 was -5.78%, a 9.65% decline from 2019. Annual percentage growth rate of GDP at market prices based on', 'score': 0.7833262, 'raw_content': None}, {'title': 'GDP growth (annual %) - India | Data - World Bank Data', 'url': 'https://data.worldbank.org/indicator/NY.GDP.MKTP.KD.ZG?locations=IN', 'content': 'GDP growth (annual %) - India | Data Data GDP growth (annual %)India Data Catalog DataBank Data Programs International Debt Statistics Other Books and Reports For Developers GDP growth (annual %) - India ============================= Similar values Highest values Lowest values GDP (constant 2015 US$)  GDP (current US$)  GDP (constant LCU)  GDP: linked series (current LCU)  GDP, PPP (constant 2021 international $)  GDP (current LCU)  GDP, PPP (current international $)  GDP per capita growth (annual %)  Country Most Recent Value All Countries and Economies Country Most Recent Value This site uses cookies to optimize functionality and give you the best possible experience. If you continue to navigate this website beyond this page, cookies will be placed on your browser.', 'score': 0.5294763, 'raw_content': None}], 'response_time': 2.7}), AIMessage(content=\"Here is the data I found on India's GDP growth rate for the past 5 years:\\n\\n| Year | GDP Growth Rate |\\n|---|---|\\n| 2023 | 7.58% |\\n| 2022 | 6.99% |\\n| 2021 | 9.69% |\\n| 2020 | -5.78% |\\n| 2019 | 3.93% |\", additional_kwargs={'documents': [{'id': 'tavily_search_results_json:0:3:0', 'output': '[{\"url\": \"https://bse2nse.com/fundamental-technical-analysis/3128-indias-gdp-growth-rate-chart-last-5-years.html\", \"content\": \"India\\'s GDP Growth Rate Chart - Last 5 years India\\'s GDP Growth Rate Chart - Last 5 years Fundamental / Technical Analysis - India\\'s GDP Growth Rate Chart - Last 5 years in STRATEGIES & PLANS - Below\\'s India\\'s GDP growth rate chart for the last 5 years. India\\'s GDP Growth Rate Chart - Last 5 years India\\'s GDP Growth Rate Chart - Last 5 years Below\\'s India\\'s GDP growth rate chart for the last 5 years. india gdp growth rate for last 5 years indias gdp growth rate for the last 10 years what is indias gdp and growth rate for last 5 years\"}, {\"url\": \"https://tradingeconomics.com/india/gdp-growth-annual\", \"content\": \"GDP Annual Growth Rate in India averaged 5.93 percent from 1951 until 2023, reaching an all time high of 21.60 percent in the second quarter of 2021 and a record low of -23.40 percent in the second quarter of 2020. India GDP Annual Growth Rate\\\\nThe Indian economy expanded 7.6% year-on-year in the third quarter of 2023, following a strong 7.8% growth in the previous period and beating forecasts of a 6.8% rise. The Gross Domestic Product (GDP) in India expanded 7.60 percent in the third quarter of 2023 over the same quarter of the previous year.\\\\n Markets\\\\nGDP\\\\nLabour\\\\nPrices\\\\nHealth\\\\nMoney\\\\nTrade\\\\nGovernment\\\\nBusiness\\\\nConsumer\\\\nHousing\\\\nTaxes\\\\nClimate The Gross Domestic Product (GDP) in India expanded 7.60 percent in the third quarter of 2023 over the same quarter of the previous year.\"}, {\"url\": \"https://tradingeconomics.com/india/full-year-gdp-growth\", \"content\": \"Markets\\\\nGDP\\\\nLabour\\\\nPrices\\\\nHealth\\\\nMoney\\\\nTrade\\\\nGovernment\\\\nBusiness\\\\nConsumer\\\\nHousing\\\\nTaxes\\\\nClimate India Fiscal Year GDP Growth\\\\nThe Indian economy expanded 7.3% in the 2023-24 fiscal year ending in March, higher than 7.2% in the previous year, according to preliminary government estimates, with state spending on infrastructure projects offering a boost. source: Ministry of Statistics and Programme Implementation (MOSPI)\\\\nFull Year GDP Growth in India increased to 7.30 percent in 2024 from 7.20 percent in 2023.\\\\n In the long-term, the India Fiscal Year GDP Growth is projected to trend around 7.00 percent in 2025 and 6.50 percent in 2026, according to our econometric models.\\\\n On the production front, faster increases were seen in manufacturing (6.5% vs 1.3%), construction (10.7% vs 10%), finance and real estate services (8.9% vs 7.1%) and mining (8.1% vs 4.6%), while lower growth rates were recorded for agriculture (1.8% vs 4%), utilities (8.3% vs 9%), trade, hotels, transport and communication (6.3% vs 14%).\"}, {\"url\": \"https://www.macrotrends.net/global-metrics/countries/IND/india/gdp-growth-rate\", \"content\": \"India gdp growth rate for 2023 was 7.58%, a 0.6% increase from 2022. India gdp growth rate for 2022 was 6.99%, a 2.7% decline from 2021. India gdp growth rate for 2021 was 9.69%, a 15.47% increase from 2020. India gdp growth rate for 2020 was -5.78%, a 9.65% decline from 2019. Annual percentage growth rate of GDP at market prices based on\"}, {\"url\": \"https://data.worldbank.org/indicator/NY.GDP.MKTP.KD.ZG?locations=IN\", \"content\": \"GDP growth (annual %) - India | Data Data GDP growth (annual %)India Data Catalog DataBank Data Programs International Debt Statistics Other Books and Reports For Developers GDP growth (annual %) - India ============================= Similar values Highest values Lowest values GDP (constant 2015 US$)  GDP (current US$)  GDP (constant LCU)  GDP: linked series (current LCU)  GDP, PPP (constant 2021 international $)  GDP (current LCU)  GDP, PPP (current international $)  GDP per capita growth (annual %)  Country Most Recent Value All Countries and Economies Country Most Recent Value This site uses cookies to optimize functionality and give you the best possible experience. If you continue to navigate this website beyond this page, cookies will be placed on your browser.\"}]', 'tool_name': 'tavily_search_results_json'}], 'citations': [{'start': 114, 'end': 118, 'text': '2023', 'document_ids': ['tavily_search_results_json:0:3:0']}, {'start': 121, 'end': 126, 'text': '7.58%', 'document_ids': ['tavily_search_results_json:0:3:0']}, {'start': 131, 'end': 135, 'text': '2022', 'document_ids': ['tavily_search_results_json:0:3:0']}, {'start': 138, 'end': 143, 'text': '6.99%', 'document_ids': ['tavily_search_results_json:0:3:0']}, {'start': 148, 'end': 152, 'text': '2021', 'document_ids': ['tavily_search_results_json:0:3:0']}, {'start': 155, 'end': 160, 'text': '9.69%', 'document_ids': ['tavily_search_results_json:0:3:0']}, {'start': 165, 'end': 169, 'text': '2020', 'document_ids': ['tavily_search_results_json:0:3:0']}, {'start': 172, 'end': 178, 'text': '-5.78%', 'document_ids': ['tavily_search_results_json:0:3:0']}, {'start': 183, 'end': 187, 'text': '2019', 'document_ids': ['tavily_search_results_json:0:3:0']}, {'start': 190, 'end': 195, 'text': '3.93%', 'document_ids': ['tavily_search_results_json:0:3:0']}], 'search_results': None, 'search_queries': None, 'is_search_required': None, 'generation_id': '90f33c54-8d40-4996-b045-0f768345af84', 'token_count': {'input_tokens': 2320.0, 'output_tokens': 336.0}}, response_metadata={'documents': [{'id': 'tavily_search_results_json:0:3:0', 'output': '[{\"url\": \"https://bse2nse.com/fundamental-technical-analysis/3128-indias-gdp-growth-rate-chart-last-5-years.html\", \"content\": \"India\\'s GDP Growth Rate Chart - Last 5 years India\\'s GDP Growth Rate Chart - Last 5 years Fundamental / Technical Analysis - India\\'s GDP Growth Rate Chart - Last 5 years in STRATEGIES & PLANS - Below\\'s India\\'s GDP growth rate chart for the last 5 years. India\\'s GDP Growth Rate Chart - Last 5 years India\\'s GDP Growth Rate Chart - Last 5 years Below\\'s India\\'s GDP growth rate chart for the last 5 years. india gdp growth rate for last 5 years indias gdp growth rate for the last 10 years what is indias gdp and growth rate for last 5 years\"}, {\"url\": \"https://tradingeconomics.com/india/gdp-growth-annual\", \"content\": \"GDP Annual Growth Rate in India averaged 5.93 percent from 1951 until 2023, reaching an all time high of 21.60 percent in the second quarter of 2021 and a record low of -23.40 percent in the second quarter of 2020. India GDP Annual Growth Rate\\\\nThe Indian economy expanded 7.6% year-on-year in the third quarter of 2023, following a strong 7.8% growth in the previous period and beating forecasts of a 6.8% rise. The Gross Domestic Product (GDP) in India expanded 7.60 percent in the third quarter of 2023 over the same quarter of the previous year.\\\\n Markets\\\\nGDP\\\\nLabour\\\\nPrices\\\\nHealth\\\\nMoney\\\\nTrade\\\\nGovernment\\\\nBusiness\\\\nConsumer\\\\nHousing\\\\nTaxes\\\\nClimate The Gross Domestic Product (GDP) in India expanded 7.60 percent in the third quarter of 2023 over the same quarter of the previous year.\"}, {\"url\": \"https://tradingeconomics.com/india/full-year-gdp-growth\", \"content\": \"Markets\\\\nGDP\\\\nLabour\\\\nPrices\\\\nHealth\\\\nMoney\\\\nTrade\\\\nGovernment\\\\nBusiness\\\\nConsumer\\\\nHousing\\\\nTaxes\\\\nClimate India Fiscal Year GDP Growth\\\\nThe Indian economy expanded 7.3% in the 2023-24 fiscal year ending in March, higher than 7.2% in the previous year, according to preliminary government estimates, with state spending on infrastructure projects offering a boost. source: Ministry of Statistics and Programme Implementation (MOSPI)\\\\nFull Year GDP Growth in India increased to 7.30 percent in 2024 from 7.20 percent in 2023.\\\\n In the long-term, the India Fiscal Year GDP Growth is projected to trend around 7.00 percent in 2025 and 6.50 percent in 2026, according to our econometric models.\\\\n On the production front, faster increases were seen in manufacturing (6.5% vs 1.3%), construction (10.7% vs 10%), finance and real estate services (8.9% vs 7.1%) and mining (8.1% vs 4.6%), while lower growth rates were recorded for agriculture (1.8% vs 4%), utilities (8.3% vs 9%), trade, hotels, transport and communication (6.3% vs 14%).\"}, {\"url\": \"https://www.macrotrends.net/global-metrics/countries/IND/india/gdp-growth-rate\", \"content\": \"India gdp growth rate for 2023 was 7.58%, a 0.6% increase from 2022. India gdp growth rate for 2022 was 6.99%, a 2.7% decline from 2021. India gdp growth rate for 2021 was 9.69%, a 15.47% increase from 2020. India gdp growth rate for 2020 was -5.78%, a 9.65% decline from 2019. Annual percentage growth rate of GDP at market prices based on\"}, {\"url\": \"https://data.worldbank.org/indicator/NY.GDP.MKTP.KD.ZG?locations=IN\", \"content\": \"GDP growth (annual %) - India | Data Data GDP growth (annual %)India Data Catalog DataBank Data Programs International Debt Statistics Other Books and Reports For Developers GDP growth (annual %) - India ============================= Similar values Highest values Lowest values GDP (constant 2015 US$)  GDP (current US$)  GDP (constant LCU)  GDP: linked series (current LCU)  GDP, PPP (constant 2021 international $)  GDP (current LCU)  GDP, PPP (current international $)  GDP per capita growth (annual %)  Country Most Recent Value All Countries and Economies Country Most Recent Value This site uses cookies to optimize functionality and give you the best possible experience. If you continue to navigate this website beyond this page, cookies will be placed on your browser.\"}]', 'tool_name': 'tavily_search_results_json'}], 'citations': [{'start': 114, 'end': 118, 'text': '2023', 'document_ids': ['tavily_search_results_json:0:3:0']}, {'start': 121, 'end': 126, 'text': '7.58%', 'document_ids': ['tavily_search_results_json:0:3:0']}, {'start': 131, 'end': 135, 'text': '2022', 'document_ids': ['tavily_search_results_json:0:3:0']}, {'start': 138, 'end': 143, 'text': '6.99%', 'document_ids': ['tavily_search_results_json:0:3:0']}, {'start': 148, 'end': 152, 'text': '2021', 'document_ids': ['tavily_search_results_json:0:3:0']}, {'start': 155, 'end': 160, 'text': '9.69%', 'document_ids': ['tavily_search_results_json:0:3:0']}, {'start': 165, 'end': 169, 'text': '2020', 'document_ids': ['tavily_search_results_json:0:3:0']}, {'start': 172, 'end': 178, 'text': '-5.78%', 'document_ids': ['tavily_search_results_json:0:3:0']}, {'start': 183, 'end': 187, 'text': '2019', 'document_ids': ['tavily_search_results_json:0:3:0']}, {'start': 190, 'end': 195, 'text': '3.93%', 'document_ids': ['tavily_search_results_json:0:3:0']}], 'search_results': None, 'search_queries': None, 'is_search_required': None, 'generation_id': '90f33c54-8d40-4996-b045-0f768345af84', 'token_count': {'input_tokens': 2320.0, 'output_tokens': 336.0}}, name='Researcher', id='run-df857a12-491f-48d1-ab23-c08b5cf88255-0', usage_metadata={'input_tokens': 2320, 'output_tokens': 336, 'total_tokens': 2656})], 'sender': 'Researcher'}"
   ]
  },
  {
   "cell_type": "code",
   "execution_count": 18,
   "id": "d90d9367-8846-4282-9566-c24516e08717",
   "metadata": {},
   "outputs": [
    {
     "data": {
      "text/plain": [
       "(4, str)"
      ]
     },
     "execution_count": 18,
     "metadata": {},
     "output_type": "execute_result"
    }
   ],
   "source": [
    "len(obj['messages']), type(obj['sender'])"
   ]
  },
  {
   "cell_type": "code",
   "execution_count": 27,
   "id": "de77ea70-2467-4b64-ad16-4934a5336484",
   "metadata": {},
   "outputs": [
    {
     "data": {
      "text/plain": [
       "AIMessage(content=\"I will search for India's GDP for the past 5 years.\", additional_kwargs={'documents': None, 'citations': None, 'search_results': None, 'search_queries': None, 'is_search_required': None, 'generation_id': '428efb38-1ae1-45ed-b537-c2f56f99c2a6', 'tool_calls': [{'id': '51f22108d7a44ef4b9e311558ddb5b4e', 'function': {'name': 'tavily_search_results_json', 'arguments': '{\"query\": \"India\\'s GDP for the past 5 years\"}'}, 'type': 'function'}], 'token_count': {'input_tokens': 1058.0, 'output_tokens': 70.0}}, response_metadata={'documents': None, 'citations': None, 'search_results': None, 'search_queries': None, 'is_search_required': None, 'generation_id': '428efb38-1ae1-45ed-b537-c2f56f99c2a6', 'tool_calls': [{'id': '51f22108d7a44ef4b9e311558ddb5b4e', 'function': {'name': 'tavily_search_results_json', 'arguments': '{\"query\": \"India\\'s GDP for the past 5 years\"}'}, 'type': 'function'}], 'token_count': {'input_tokens': 1058.0, 'output_tokens': 70.0}}, name='Researcher', id='run-c8d3ca1e-e994-45c6-aa06-bf70c99c718b-0', tool_calls=[{'name': 'tavily_search_results_json', 'args': {'query': \"India's GDP for the past 5 years\"}, 'id': 'd8c72e778bf04a609a728a654039af50', 'type': 'tool_call'}], usage_metadata={'input_tokens': 1058, 'output_tokens': 70, 'total_tokens': 1128})"
      ]
     },
     "execution_count": 27,
     "metadata": {},
     "output_type": "execute_result"
    }
   ],
   "source": [
    "obj['messages'][1]"
   ]
  }
 ],
 "metadata": {
  "kernelspec": {
   "display_name": "Python 3 (ipykernel)",
   "language": "python",
   "name": "python3"
  },
  "language_info": {
   "codemirror_mode": {
    "name": "ipython",
    "version": 3
   },
   "file_extension": ".py",
   "mimetype": "text/x-python",
   "name": "python",
   "nbconvert_exporter": "python",
   "pygments_lexer": "ipython3",
   "version": "3.11.7"
  }
 },
 "nbformat": 4,
 "nbformat_minor": 5
}
