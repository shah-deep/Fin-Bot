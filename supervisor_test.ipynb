{
 "cells": [
  {
   "cell_type": "code",
   "execution_count": 1,
   "id": "c23b35d1-d61a-484e-820b-4eab550ac1f5",
   "metadata": {},
   "outputs": [],
   "source": [
    "%load_ext autoreload"
   ]
  },
  {
   "cell_type": "code",
   "execution_count": 10,
   "id": "798c2bc0-274b-4f9e-a8e9-fb54ad13fe65",
   "metadata": {},
   "outputs": [],
   "source": [
    "%autoreload 2\n",
    "from langchain_core.messages import HumanMessage\n",
    "from src.pricetrends.pricesupervisor import prices_graph_builder"
   ]
  },
  {
   "cell_type": "code",
   "execution_count": 11,
   "id": "a750f042-dcc5-4f9b-9bec-f8f479b27fb5",
   "metadata": {},
   "outputs": [],
   "source": [
    "graph = prices_graph_builder()"
   ]
  },
  {
   "cell_type": "code",
   "execution_count": 12,
   "id": "41f399db-e47d-40cc-81a8-31ce726c91a2",
   "metadata": {},
   "outputs": [],
   "source": [
    "user_input = \"Plot Closing Prices for Nvidia (NVDA)\""
   ]
  },
  {
   "cell_type": "code",
   "execution_count": 13,
   "id": "e5327c0e-a9c6-4b89-95cd-6426cc9feccc",
   "metadata": {},
   "outputs": [
    {
     "name": "stdout",
     "output_type": "stream",
     "text": [
      "\n",
      "\n",
      "\u001b[1m> Entering new AgentExecutor chain...\u001b[0m\n",
      "\u001b[32;1m\u001b[1;3m\n",
      "Invoking: `check_stock_data` with `{'ticker': 'NVDA'}`\n",
      "responded: I will first check if the stock data is available for Nvidia (NVDA). If it is not available, I will refresh the stock data. Then, I will use the get_closing_price tool to fetch the closing prices for Nvidia (NVDA).\n",
      "\n",
      "\u001b[0m\u001b[33;1m\u001b[1;3mTrue\u001b[0m\u001b[32;1m\u001b[1;3m\n",
      "Invoking: `get_closing_price` with `{'ticker': 'NVDA'}`\n",
      "responded: The stock data is available for Nvidia (NVDA). I will now use the get_closing_price tool to fetch the closing prices for Nvidia (NVDA).\n",
      "\n",
      "\u001b[0m\u001b[38;5;200m\u001b[1;3mGot Closing Prices for NVDA\u001b[0m\u001b[32;1m\u001b[1;3mYou can now generate a plot for the closing prices of Nvidia (NVDA).\u001b[0m\n",
      "\n",
      "\u001b[1m> Finished chain.\u001b[0m\n",
      "Trends Node Response:  {'input': 'Plot Closing Prices for Nvidia (NVDA)', 'output': 'You can now generate a plot for the closing prices of Nvidia (NVDA).'}\n",
      "{'trends_saver': {'messages': [{'sender': 'trends_agent', 'content': 'You can now generate a plot for the closing prices of Nvidia (NVDA).', 'role': 'human'}]}}\n",
      "----\n",
      "Plots node state  {'messages': [HumanMessage(content='Plot Closing Prices for Nvidia (NVDA)', additional_kwargs={}, response_metadata={}, id='9f871a78-2e69-4fd8-93d9-6ac5b6b23537'), HumanMessage(content='You can now generate a plot for the closing prices of Nvidia (NVDA).', additional_kwargs={'sender': 'trends_agent'}, response_metadata={}, id='0913662a-eea0-49b9-8336-95fc7c9f0650')]}\n",
      "\n",
      "\n",
      "\u001b[1m> Entering new AgentExecutor chain...\u001b[0m\n",
      "\u001b[32;1m\u001b[1;3m\n",
      "Invoking: `get_file_path` with `{'ticker': 'NVDA', 'trend': 'closing price'}`\n",
      "responded: I will use the get_file_path tool to generate the file path for the closing prices of Nvidia (NVDA). I will then use the create_plots tool to generate and save the plot. I will return the file path where the plot was saved.\n",
      "\n",
      "\u001b[0m\u001b[36;1m\u001b[1;3mNVDA_closing_price.csv\u001b[0m\u001b[32;1m\u001b[1;3mNVDA_closing_price.csv\u001b[0m\n",
      "\n",
      "\u001b[1m> Finished chain.\u001b[0m\n",
      "Plots Node Response:  {'input': 'You can now generate a plot for the closing prices of Nvidia (NVDA).', 'output': 'NVDA_closing_price.csv'}\n",
      "{'plots_maker': {'messages': [{'sender': 'plot_agent', 'content': 'NVDA_closing_price.csv', 'role': 'human'}]}}\n",
      "----\n"
     ]
    }
   ],
   "source": [
    "events = graph.stream(\n",
    "    {\n",
    "        \"messages\": [\n",
    "            HumanMessage(\n",
    "                content=user_input\n",
    "            )\n",
    "        ],\n",
    "    },\n",
    "    # Maximum number of steps to take in the graph\n",
    "    {\"recursion_limit\": 150},\n",
    ")\n",
    "for s in events:\n",
    "    print(s)\n",
    "    print(\"----\")"
   ]
  }
 ],
 "metadata": {
  "kernelspec": {
   "display_name": "Python 3 (ipykernel)",
   "language": "python",
   "name": "python3"
  },
  "language_info": {
   "codemirror_mode": {
    "name": "ipython",
    "version": 3
   },
   "file_extension": ".py",
   "mimetype": "text/x-python",
   "name": "python",
   "nbconvert_exporter": "python",
   "pygments_lexer": "ipython3",
   "version": "3.11.7"
  }
 },
 "nbformat": 4,
 "nbformat_minor": 5
}
