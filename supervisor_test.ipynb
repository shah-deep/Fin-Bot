{
 "cells": [
  {
   "cell_type": "code",
   "execution_count": 1,
   "id": "c23b35d1-d61a-484e-820b-4eab550ac1f5",
   "metadata": {},
   "outputs": [],
   "source": [
    "%load_ext autoreload"
   ]
  },
  {
   "cell_type": "code",
   "execution_count": 14,
   "id": "798c2bc0-274b-4f9e-a8e9-fb54ad13fe65",
   "metadata": {},
   "outputs": [],
   "source": [
    "%autoreload 2\n",
    "from langchain_core.messages import HumanMessage\n",
    "from src.teams_supervisor import supervisor_graph_builder"
   ]
  },
  {
   "cell_type": "code",
   "execution_count": 15,
   "id": "a750f042-dcc5-4f9b-9bec-f8f479b27fb5",
   "metadata": {},
   "outputs": [],
   "source": [
    "graph = supervisor_graph_builder()"
   ]
  },
  {
   "cell_type": "code",
   "execution_count": 16,
   "id": "41f399db-e47d-40cc-81a8-31ce726c91a2",
   "metadata": {},
   "outputs": [],
   "source": [
    "user_input = \"What is the Net Profit Margin for Nvidia (NVDA)\" # \"Plot Closing Prices for Nvidia (NVDA)\""
   ]
  },
  {
   "cell_type": "code",
   "execution_count": 17,
   "id": "e5327c0e-a9c6-4b89-95cd-6426cc9feccc",
   "metadata": {},
   "outputs": [
    {
     "name": "stdout",
     "output_type": "stream",
     "text": [
      "STATE Supervisor  {'messages': [HumanMessage(content='What is the Net Profit Margin for Nvidia (NVDA)', additional_kwargs={}, response_metadata={}, id='91c98278-b50d-4a5f-aae0-b61d23aabe5a')]}\n",
      "Got Next: ratios_agent\n",
      "content='What is the Net Profit Margin for Nvidia (NVDA)' additional_kwargs={'sender': 'supervisor', 'next': 'ratios_agent'} response_metadata={} id='eb8bf744-9ec9-4f7e-87c8-d30378d88bf9'\n",
      "{'supervisor': {'messages': [{'sender': 'supervisor', 'next': 'ratios_agent', 'content': 'What is the Net Profit Margin for Nvidia (NVDA)', 'role': 'assistant'}]}}\n",
      "----\n",
      "\n",
      "\n",
      "\u001b[1m> Entering new AgentExecutor chain...\u001b[0m\n",
      "\u001b[32;1m\u001b[1;3m\n",
      "Invoking: `get_cik_from_ticker` with `{'ticker': 'NVDA'}`\n",
      "responded: I will first get the CIK for Nvidia (NVDA) using the get_cik_from_ticker tool. Then, I will check if the company facts data is available using the check_company_facts_data tool. If it is not available, I will use the refresh_company_facts_data tool to fetch the data. Finally, I will use the calculate_net_profit_margin tool to compute the net profit margin for Nvidia (NVDA).\n",
      "\n",
      "\u001b[0m\u001b[36;1m\u001b[1;3m0001045810\u001b[0m\u001b[32;1m\u001b[1;3m\n",
      "Invoking: `check_company_facts_data` with `{'cik': '0001045810'}`\n",
      "responded: The CIK for Nvidia (NVDA) is 0001045810. I will now check if the company facts data is available using the check_company_facts_data tool.\n",
      "\n",
      "\u001b[0m\u001b[38;5;200m\u001b[1;3mTrue\u001b[0m\u001b[32;1m\u001b[1;3m\n",
      "Invoking: `calculate_net_profit_margin` with `{'cik': '0001045810'}`\n",
      "responded: The company facts data is available. I will now use the calculate_net_profit_margin tool to compute the net profit margin for Nvidia (NVDA).\n",
      "\n",
      "\u001b[0m\u001b[38;5;200m\u001b[1;3m0.4884934834706674\u001b[0m\u001b[32;1m\u001b[1;3mThe net profit margin for Nvidia (NVDA) is 0.4884934834706674.\u001b[0m\n",
      "\n",
      "\u001b[1m> Finished chain.\u001b[0m\n",
      "Ratios Node Response:  {'input': 'What is the Net Profit Margin for Nvidia (NVDA)', 'output': 'The net profit margin for Nvidia (NVDA) is 0.4884934834706674.'}\n",
      "{'ratios_agent': {'messages': [{'sender': 'ratios_agent', 'content': 'The net profit margin for Nvidia (NVDA) is 0.4884934834706674.', 'role': 'human'}]}}\n",
      "----\n",
      "STATE Supervisor  {'messages': [HumanMessage(content='What is the Net Profit Margin for Nvidia (NVDA)', additional_kwargs={}, response_metadata={}, id='91c98278-b50d-4a5f-aae0-b61d23aabe5a'), AIMessage(content='What is the Net Profit Margin for Nvidia (NVDA)', additional_kwargs={'sender': 'supervisor', 'next': 'ratios_agent'}, response_metadata={}, id='9fe603b4-2025-4ccc-8038-cdbe01fb4c8f'), HumanMessage(content='The net profit margin for Nvidia (NVDA) is 0.4884934834706674.', additional_kwargs={'sender': 'ratios_agent'}, response_metadata={}, id='e657c929-3ead-4120-97cc-2a13f6333795')]}\n",
      "Got Next: ratios_agent\n",
      "content='The net profit margin for Nvidia (NVDA) is 0.4884934834706674.' additional_kwargs={'sender': 'supervisor', 'next': 'ratios_agent'} response_metadata={} id='3b2d1872-f08b-4f76-ba63-1a7fe2741e4b'\n",
      "{'supervisor': {'messages': [{'sender': 'supervisor', 'next': 'ratios_agent', 'content': 'The net profit margin for Nvidia (NVDA) is 0.4884934834706674.', 'role': 'assistant'}]}}\n",
      "----\n",
      "\n",
      "\n",
      "\u001b[1m> Entering new AgentExecutor chain...\u001b[0m\n",
      "\u001b[32;1m\u001b[1;3m\n",
      "Invoking: `get_cik_from_ticker` with `{'ticker': 'NVDA'}`\n",
      "responded: I will first use the get_cik_from_ticker tool to get the CIK for Nvidia (NVDA). Then, I will use the check_company_facts_data tool to check if the company facts data is available. If it is not available, I will use the refresh_company_facts_data tool to fetch the company facts data. Finally, I will use the calculate_net_profit_margin tool to calculate the net profit margin for Nvidia (NVDA).\n",
      "\n",
      "\u001b[0m\u001b[36;1m\u001b[1;3m0001045810\u001b[0m\u001b[32;1m\u001b[1;3m\n",
      "Invoking: `check_company_facts_data` with `{'cik': '0001045810'}`\n",
      "responded: The CIK for Nvidia (NVDA) is 0001045810. I will now use the check_company_facts_data tool to check if the company facts data is available.\n",
      "\n",
      "\u001b[0m\u001b[38;5;200m\u001b[1;3mTrue\u001b[0m\u001b[32;1m\u001b[1;3m\n",
      "Invoking: `calculate_net_profit_margin` with `{'cik': '0001045810'}`\n",
      "responded: The company facts data is available. I will now use the calculate_net_profit_margin tool to calculate the net profit margin for Nvidia (NVDA).\n",
      "\n",
      "\u001b[0m\u001b[38;5;200m\u001b[1;3m0.4884934834706674\u001b[0m\u001b[32;1m\u001b[1;3mThe net profit margin for Nvidia (NVDA) is 0.4884934834706674.\u001b[0m\n",
      "\n",
      "\u001b[1m> Finished chain.\u001b[0m\n",
      "Ratios Node Response:  {'input': 'The net profit margin for Nvidia (NVDA) is 0.4884934834706674.', 'output': 'The net profit margin for Nvidia (NVDA) is 0.4884934834706674.'}\n",
      "{'ratios_agent': {'messages': [{'sender': 'ratios_agent', 'content': 'The net profit margin for Nvidia (NVDA) is 0.4884934834706674.', 'role': 'human'}]}}\n",
      "----\n",
      "STATE Supervisor  {'messages': [HumanMessage(content='What is the Net Profit Margin for Nvidia (NVDA)', additional_kwargs={}, response_metadata={}, id='91c98278-b50d-4a5f-aae0-b61d23aabe5a'), AIMessage(content='What is the Net Profit Margin for Nvidia (NVDA)', additional_kwargs={'sender': 'supervisor', 'next': 'ratios_agent'}, response_metadata={}, id='9fe603b4-2025-4ccc-8038-cdbe01fb4c8f'), HumanMessage(content='The net profit margin for Nvidia (NVDA) is 0.4884934834706674.', additional_kwargs={'sender': 'ratios_agent'}, response_metadata={}, id='e657c929-3ead-4120-97cc-2a13f6333795'), AIMessage(content='The net profit margin for Nvidia (NVDA) is 0.4884934834706674.', additional_kwargs={'sender': 'supervisor', 'next': 'ratios_agent'}, response_metadata={}, id='79b5fea3-986d-4e3e-8049-350e42232b0e'), HumanMessage(content='The net profit margin for Nvidia (NVDA) is 0.4884934834706674.', additional_kwargs={'sender': 'ratios_agent'}, response_metadata={}, id='0f79c9b9-cf25-4f71-8c48-a45626476797')]}\n",
      "Got Next: ratios_agent\n",
      "content='The net profit margin for Nvidia (NVDA) is 0.4884934834706674.' additional_kwargs={'sender': 'supervisor', 'next': 'ratios_agent'} response_metadata={} id='e06cc9cf-f775-4181-9d6d-86150e57170e'\n",
      "{'supervisor': {'messages': [{'sender': 'supervisor', 'next': 'ratios_agent', 'content': 'The net profit margin for Nvidia (NVDA) is 0.4884934834706674.', 'role': 'assistant'}]}}\n",
      "----\n",
      "\n",
      "\n",
      "\u001b[1m> Entering new AgentExecutor chain...\u001b[0m\n",
      "\u001b[32;1m\u001b[1;3m\n",
      "Invoking: `get_cik_from_ticker` with `{'ticker': 'NVDA'}`\n",
      "responded: I will first use the get_cik_from_ticker tool to get the CIK for Nvidia (NVDA). Then, I will use the check_company_facts_data tool to check if the company facts data is available. If it is not available, I will use the refresh_company_facts_data tool to fetch the company facts data. Finally, I will use the calculate_net_profit_margin tool to calculate the net profit margin for Nvidia (NVDA).\n",
      "\n",
      "\u001b[0m\u001b[36;1m\u001b[1;3m0001045810\u001b[0m\u001b[32;1m\u001b[1;3m\n",
      "Invoking: `check_company_facts_data` with `{'cik': '0001045810'}`\n",
      "responded: The CIK for Nvidia (NVDA) is 0001045810. I will now use the check_company_facts_data tool to check if the company facts data is available.\n",
      "\n",
      "\u001b[0m\u001b[38;5;200m\u001b[1;3mTrue\u001b[0m\u001b[32;1m\u001b[1;3m\n",
      "Invoking: `calculate_net_profit_margin` with `{'cik': '0001045810'}`\n",
      "responded: The company facts data is available. I will now use the calculate_net_profit_margin tool to calculate the net profit margin for Nvidia (NVDA).\n",
      "\n",
      "\u001b[0m\u001b[38;5;200m\u001b[1;3m0.4884934834706674\u001b[0m"
     ]
    },
    {
     "name": "stderr",
     "output_type": "stream",
     "text": [
      "\n",
      "KeyboardInterrupt\n",
      "\n"
     ]
    }
   ],
   "source": [
    "events = graph.stream(\n",
    "    {\n",
    "        \"messages\": [\n",
    "            HumanMessage(\n",
    "                content=user_input\n",
    "            )\n",
    "        ],\n",
    "    },\n",
    "    # Maximum number of steps to take in the graph\n",
    "    {\"recursion_limit\": 150},\n",
    ")\n",
    "for s in events:\n",
    "    print(s)\n",
    "    print(\"----\")"
   ]
  }
 ],
 "metadata": {
  "kernelspec": {
   "display_name": "Python 3 (ipykernel)",
   "language": "python",
   "name": "python3"
  },
  "language_info": {
   "codemirror_mode": {
    "name": "ipython",
    "version": 3
   },
   "file_extension": ".py",
   "mimetype": "text/x-python",
   "name": "python",
   "nbconvert_exporter": "python",
   "pygments_lexer": "ipython3",
   "version": "3.11.7"
  }
 },
 "nbformat": 4,
 "nbformat_minor": 5
}
